{
 "cells": [
  {
   "cell_type": "markdown",
   "metadata": {},
   "source": [
    "# **CS 181 HW3 Problem 4**\n",
    "---\n",
    "\n",
    "This problem serves as an introduction to building and training machine learning models with PyTorch. This notebook seems long, so here is a breakdown:\n",
    "- **0) Why PyTorch?** Explains what PyTorch is.\n",
    "- **1) Initializing tensors**  Explains how we initialize tensors.\n",
    "- **2) Gradients**  Explains how gradients work.\n",
    "- **3) Fashion MNIST**  Introduces you to a very famous toy dataset.\n",
    "- **4) Creating a neural network**  Here you create the parameters and architecture of your models from scratch.\n",
    "- **5) Training a neural network**  Here you create a training loop from scratch.\n",
    "\n",
    "Parts **0-3** are an introdution to PyTorch. The only deliverables you need to complete are clearly labelled in pars **4-5**. This suffices to replacing `'not implemented'`."
   ]
  },
  {
   "cell_type": "code",
   "execution_count": 2,
   "metadata": {},
   "outputs": [],
   "source": [
    "import torch\n",
    "import torchvision\n",
    "import matplotlib.pyplot as plt\n",
    "from tqdm import tqdm\n",
    "%matplotlib inline\n",
    "%config InlineBackend.figure_format = 'svg'"
   ]
  },
  {
   "cell_type": "markdown",
   "metadata": {},
   "source": [
    "<br>\n",
    "<br>"
   ]
  },
  {
   "cell_type": "markdown",
   "metadata": {},
   "source": [
    "## **0) Why PyTorch?**"
   ]
  },
  {
   "cell_type": "markdown",
   "metadata": {},
   "source": [
    "PyTorch is an open source machine learning framework based on the Torch library. It is currently by far the most popular library for implementing machine learning projects. Unlike in NumPy, PyTorch allows you to perform tensor operations on the GPU. This, alongside dynamic auto-differentiation, makes PyTorch extremely performative and flexible. Learning to use PyTorch will mean you are able to prototype, train, and test production-quality models for work or research.\n",
    "\n",
    "All the building blocks for machine learning architectures (activation functions, loss functions, neural network layers, etc) are written for you. Exploring everything PyTorch offers takes patience. If you want to and dive further into deep learning, we highly encourage you to read through the [D2L (d2l.ai)](https://d2l.ai/) course, which gives tutorials on how to write even the most state of the art deep learning models from scratch."
   ]
  },
  {
   "cell_type": "markdown",
   "metadata": {},
   "source": [
    "## **1) Initializing tensors**"
   ]
  },
  {
   "cell_type": "markdown",
   "metadata": {},
   "source": [
    "Initializing tensors in PyTorch is analagous to initializing arrays in NumPy. (This is because `torch.Tensor` is a wrapper of `numpy.ndarray`). Below we initialize a tensor with all $0$'s, one with all $1$'s, and one with all random numbers."
   ]
  },
  {
   "cell_type": "code",
   "execution_count": 3,
   "metadata": {},
   "outputs": [
    {
     "name": "stdout",
     "output_type": "stream",
     "text": [
      "Zeroes:\n",
      "tensor([[0., 0.],\n",
      "        [0., 0.],\n",
      "        [0., 0.]])\n",
      "\n",
      "Ones:\n",
      "tensor([[1., 1.],\n",
      "        [1., 1.],\n",
      "        [1., 1.]])\n",
      "\n",
      "Random:\n",
      "tensor([[-1.6275,  0.0297],\n",
      "        [-0.9895,  1.3353],\n",
      "        [ 0.0768, -0.2803]])\n"
     ]
    }
   ],
   "source": [
    "n, d = 3, 2\n",
    "\n",
    "zeroes = torch.zeros(size=(n, d))\n",
    "print(f'Zeroes:\\n{zeroes}')\n",
    "\n",
    "ones = torch.ones(size=(n, d))\n",
    "print(f'\\nOnes:\\n{ones}')\n",
    "\n",
    "rand = torch.randn(size=(n, d))\n",
    "print(f'\\nRandom:\\n{rand}')\n"
   ]
  },
  {
   "cell_type": "markdown",
   "metadata": {},
   "source": [
    "It seems that `torch.randn` initializes a tensor according to some unknown random distribution. Let's sleuthe out what that distribution might be! First, we can sample this distribution by randomly initializing `n` many $48 \\times 64$ matrices (let's call them \"images\"):"
   ]
  },
  {
   "cell_type": "code",
   "execution_count": 4,
   "metadata": {},
   "outputs": [
    {
     "name": "stdout",
     "output_type": "stream",
     "text": [
      "Images shape:\t\ttorch.Size([3, 48, 64])\n",
      "First image shape:\ttorch.Size([48, 64])\n",
      "Second image shape:\ttorch.Size([48, 64])\n",
      "Third image shape:\ttorch.Size([48, 64])\n"
     ]
    }
   ],
   "source": [
    "height, width = 48, 64\n",
    "images = torch.randn(size=(n, height, width))\n",
    "\n",
    "print(f'Images shape:\\t\\t{images.shape}')\n",
    "print(f'First image shape:\\t{images[0].shape}')\n",
    "print(f'Second image shape:\\t{images[1].shape}')\n",
    "print(f'Third image shape:\\t{images[2].shape}')"
   ]
  },
  {
   "cell_type": "markdown",
   "metadata": {},
   "source": [
    "Notice that the shape of `images` is `(3, 48, 64)`, meaning $3\\times 48 \\times 64$. This tensor has 3 axes, or dimensions. The first dimension indexes over all the individual images `images[0]`, `images[1]`, `images[2]`. The second dimension indexes over all the rows in a particular image. The third dimension indexes over the columns in a particular row. This means `images[0][5][2]`, or more cleanly `images[0,5,2]`, gives us the 2nd pixel on the 5th row of the 0th image.\n",
    "\n",
    "Now that we understand the shape of this `images` object we created, we can visualize the distribution of `torch.randn` by plotting a histogram of the pixel values for each image. To do this, let's flatten our collection of images by flattening the last two dimensions. Since each image is $48 \\times 64$, it has $3072$ pixels. Hence, we should see the result `flattened_images` to have the shape `(3, 3072)` and we do.\n",
    "\n",
    "Interesting! We can visually tell that `torch.randn` samples from the standard normal distribution $\\mathcal N(0, 1)$."
   ]
  },
  {
   "cell_type": "code",
   "execution_count": 5,
   "metadata": {},
   "outputs": [
    {
     "name": "stdout",
     "output_type": "stream",
     "text": [
      "Flattened images shape:\ttorch.Size([3, 3072])\n"
     ]
    },
    {
     "data": {
      "text/plain": [
       "[]"
      ]
     },
     "execution_count": 5,
     "metadata": {},
     "output_type": "execute_result"
    },
    {
     "data": {
      "image/svg+xml": "<?xml version=\"1.0\" encoding=\"utf-8\" standalone=\"no\"?>\n<!DOCTYPE svg PUBLIC \"-//W3C//DTD SVG 1.1//EN\"\n  \"http://www.w3.org/Graphics/SVG/1.1/DTD/svg11.dtd\">\n<svg xmlns:xlink=\"http://www.w3.org/1999/xlink\" width=\"375.2875pt\" height=\"263.63625pt\" viewBox=\"0 0 375.2875 263.63625\" xmlns=\"http://www.w3.org/2000/svg\" version=\"1.1\">\n <metadata>\n  <rdf:RDF xmlns:dc=\"http://purl.org/dc/elements/1.1/\" xmlns:cc=\"http://creativecommons.org/ns#\" xmlns:rdf=\"http://www.w3.org/1999/02/22-rdf-syntax-ns#\">\n   <cc:Work>\n    <dc:type rdf:resource=\"http://purl.org/dc/dcmitype/StillImage\"/>\n    <dc:date>2022-03-02T18:01:17.012780</dc:date>\n    <dc:format>image/svg+xml</dc:format>\n    <dc:creator>\n     <cc:Agent>\n      <dc:title>Matplotlib v3.5.1, https://matplotlib.org/</dc:title>\n     </cc:Agent>\n    </dc:creator>\n   </cc:Work>\n  </rdf:RDF>\n </metadata>\n <defs>\n  <style type=\"text/css\">*{stroke-linejoin: round; stroke-linecap: butt}</style>\n </defs>\n <g id=\"figure_1\">\n  <g id=\"patch_1\">\n   <path d=\"M 0 263.63625 \nL 375.2875 263.63625 \nL 375.2875 0 \nL 0 0 \nL 0 263.63625 \nz\n\" style=\"fill: none\"/>\n  </g>\n  <g id=\"axes_1\">\n   <g id=\"patch_2\">\n    <path d=\"M 33.2875 239.758125 \nL 368.0875 239.758125 \nL 368.0875 22.318125 \nL 33.2875 22.318125 \nz\n\" style=\"fill: #ffffff\"/>\n   </g>\n   <g id=\"patch_3\">\n    <path d=\"M 48.505682 239.758125 \nL 56.787683 239.758125 \nL 56.787683 237.0687 \nL 48.505682 237.0687 \nz\n\" clip-path=\"url(#p9cbe903d55)\" style=\"fill: #dc143c\"/>\n   </g>\n   <g id=\"patch_4\">\n    <path d=\"M 79.563194 239.758125 \nL 87.845195 239.758125 \nL 87.845195 225.088535 \nL 79.563194 225.088535 \nz\n\" clip-path=\"url(#p9cbe903d55)\" style=\"fill: #dc143c\"/>\n   </g>\n   <g id=\"patch_5\">\n    <path d=\"M 110.620707 239.758125 \nL 118.902708 239.758125 \nL 118.902708 192.815437 \nL 110.620707 192.815437 \nz\n\" clip-path=\"url(#p9cbe903d55)\" style=\"fill: #dc143c\"/>\n   </g>\n   <g id=\"patch_6\">\n    <path d=\"M 141.678224 239.758125 \nL 149.960225 239.758125 \nL 149.960225 108.709786 \nL 141.678224 108.709786 \nz\n\" clip-path=\"url(#p9cbe903d55)\" style=\"fill: #dc143c\"/>\n   </g>\n   <g id=\"patch_7\">\n    <path d=\"M 172.735737 239.758125 \nL 181.017738 239.758125 \nL 181.017738 32.672411 \nL 172.735737 32.672411 \nz\n\" clip-path=\"url(#p9cbe903d55)\" style=\"fill: #dc143c\"/>\n   </g>\n   <g id=\"patch_8\">\n    <path d=\"M 203.793253 239.758125 \nL 212.075254 239.758125 \nL 212.075254 54.18781 \nL 203.793253 54.18781 \nz\n\" clip-path=\"url(#p9cbe903d55)\" style=\"fill: #dc143c\"/>\n   </g>\n   <g id=\"patch_9\">\n    <path d=\"M 234.850767 239.758125 \nL 243.132768 239.758125 \nL 243.132768 126.557788 \nL 234.850767 126.557788 \nz\n\" clip-path=\"url(#p9cbe903d55)\" style=\"fill: #dc143c\"/>\n   </g>\n   <g id=\"patch_10\">\n    <path d=\"M 265.908285 239.758125 \nL 274.190286 239.758125 \nL 274.190286 201.128204 \nL 265.908285 201.128204 \nz\n\" clip-path=\"url(#p9cbe903d55)\" style=\"fill: #dc143c\"/>\n   </g>\n   <g id=\"patch_11\">\n    <path d=\"M 296.965802 239.758125 \nL 305.247804 239.758125 \nL 305.247804 229.978398 \nL 296.965802 229.978398 \nz\n\" clip-path=\"url(#p9cbe903d55)\" style=\"fill: #dc143c\"/>\n   </g>\n   <g id=\"patch_12\">\n    <path d=\"M 328.023315 239.758125 \nL 336.305316 239.758125 \nL 336.305316 238.291166 \nL 328.023315 238.291166 \nz\n\" clip-path=\"url(#p9cbe903d55)\" style=\"fill: #dc143c\"/>\n   </g>\n   <g id=\"patch_13\">\n    <path d=\"M 56.787672 239.758125 \nL 65.069673 239.758125 \nL 65.069673 236.824207 \nL 56.787672 236.824207 \nz\n\" clip-path=\"url(#p9cbe903d55)\" style=\"fill: #800080\"/>\n   </g>\n   <g id=\"patch_14\">\n    <path d=\"M 87.845184 239.758125 \nL 96.127186 239.758125 \nL 96.127186 226.799987 \nL 87.845184 226.799987 \nz\n\" clip-path=\"url(#p9cbe903d55)\" style=\"fill: #800080\"/>\n   </g>\n   <g id=\"patch_15\">\n    <path d=\"M 118.902713 239.758125 \nL 127.184714 239.758125 \nL 127.184714 185.969628 \nL 118.902713 185.969628 \nz\n\" clip-path=\"url(#p9cbe903d55)\" style=\"fill: #800080\"/>\n   </g>\n   <g id=\"patch_16\">\n    <path d=\"M 149.960225 239.758125 \nL 158.242227 239.758125 \nL 158.242227 116.778061 \nL 149.960225 116.778061 \nz\n\" clip-path=\"url(#p9cbe903d55)\" style=\"fill: #800080\"/>\n   </g>\n   <g id=\"patch_17\">\n    <path d=\"M 181.017742 239.758125 \nL 189.299743 239.758125 \nL 189.299743 48.07548 \nL 181.017742 48.07548 \nz\n\" clip-path=\"url(#p9cbe903d55)\" style=\"fill: #800080\"/>\n   </g>\n   <g id=\"patch_18\">\n    <path d=\"M 212.075257 239.758125 \nL 220.357258 239.758125 \nL 220.357258 54.432303 \nL 212.075257 54.432303 \nz\n\" clip-path=\"url(#p9cbe903d55)\" style=\"fill: #800080\"/>\n   </g>\n   <g id=\"patch_19\">\n    <path d=\"M 243.132773 239.758125 \nL 251.414775 239.758125 \nL 251.414775 122.89039 \nL 243.132773 122.89039 \nz\n\" clip-path=\"url(#p9cbe903d55)\" style=\"fill: #800080\"/>\n   </g>\n   <g id=\"patch_20\">\n    <path d=\"M 274.190286 239.758125 \nL 282.472287 239.758125 \nL 282.472287 192.815437 \nL 274.190286 192.815437 \nz\n\" clip-path=\"url(#p9cbe903d55)\" style=\"fill: #800080\"/>\n   </g>\n   <g id=\"patch_21\">\n    <path d=\"M 305.247793 239.758125 \nL 313.529805 239.758125 \nL 313.529805 225.577521 \nL 305.247793 225.577521 \nz\n\" clip-path=\"url(#p9cbe903d55)\" style=\"fill: #800080\"/>\n   </g>\n   <g id=\"patch_22\">\n    <path d=\"M 336.305327 239.758125 \nL 344.587328 239.758125 \nL 344.587328 236.335221 \nL 336.305327 236.335221 \nz\n\" clip-path=\"url(#p9cbe903d55)\" style=\"fill: #800080\"/>\n   </g>\n   <g id=\"patch_23\">\n    <path d=\"M 65.069684 239.758125 \nL 73.351685 239.758125 \nL 73.351685 236.579714 \nL 65.069684 236.579714 \nz\n\" clip-path=\"url(#p9cbe903d55)\" style=\"fill: #ff6347\"/>\n   </g>\n   <g id=\"patch_24\">\n    <path d=\"M 96.127196 239.758125 \nL 104.409198 239.758125 \nL 104.409198 223.866069 \nL 96.127196 223.866069 \nz\n\" clip-path=\"url(#p9cbe903d55)\" style=\"fill: #ff6347\"/>\n   </g>\n   <g id=\"patch_25\">\n    <path d=\"M 127.184714 239.758125 \nL 135.466715 239.758125 \nL 135.466715 184.258176 \nL 127.184714 184.258176 \nz\n\" clip-path=\"url(#p9cbe903d55)\" style=\"fill: #ff6347\"/>\n   </g>\n   <g id=\"patch_26\">\n    <path d=\"M 158.242232 239.758125 \nL 166.524233 239.758125 \nL 166.524233 111.154718 \nL 158.242232 111.154718 \nz\n\" clip-path=\"url(#p9cbe903d55)\" style=\"fill: #ff6347\"/>\n   </g>\n   <g id=\"patch_27\">\n    <path d=\"M 189.299747 239.758125 \nL 197.581748 239.758125 \nL 197.581748 39.273726 \nL 189.299747 39.273726 \nz\n\" clip-path=\"url(#p9cbe903d55)\" style=\"fill: #ff6347\"/>\n   </g>\n   <g id=\"patch_28\">\n    <path d=\"M 220.357262 239.758125 \nL 228.639263 239.758125 \nL 228.639263 57.121728 \nL 220.357262 57.121728 \nz\n\" clip-path=\"url(#p9cbe903d55)\" style=\"fill: #ff6347\"/>\n   </g>\n   <g id=\"patch_29\">\n    <path d=\"M 251.414775 239.758125 \nL 259.696776 239.758125 \nL 259.696776 125.090829 \nL 251.414775 125.090829 \nz\n\" clip-path=\"url(#p9cbe903d55)\" style=\"fill: #ff6347\"/>\n   </g>\n   <g id=\"patch_30\">\n    <path d=\"M 282.472287 239.758125 \nL 290.754283 239.758125 \nL 290.754283 199.416752 \nL 282.472287 199.416752 \nz\n\" clip-path=\"url(#p9cbe903d55)\" style=\"fill: #ff6347\"/>\n   </g>\n   <g id=\"patch_31\">\n    <path d=\"M 313.529805 239.758125 \nL 321.811806 239.758125 \nL 321.811806 230.956371 \nL 313.529805 230.956371 \nz\n\" clip-path=\"url(#p9cbe903d55)\" style=\"fill: #ff6347\"/>\n   </g>\n   <g id=\"patch_32\">\n    <path d=\"M 344.587317 239.758125 \nL 352.869318 239.758125 \nL 352.869318 238.780152 \nL 344.587317 238.780152 \nz\n\" clip-path=\"url(#p9cbe903d55)\" style=\"fill: #ff6347\"/>\n   </g>\n   <g id=\"matplotlib.axis_1\">\n    <g id=\"xtick_1\">\n     <g id=\"line2d_1\">\n      <defs>\n       <path id=\"m85248cc2c1\" d=\"M 0 0 \nL 0 3.5 \n\" style=\"stroke: #000000; stroke-width: 0.8\"/>\n      </defs>\n      <g>\n       <use xlink:href=\"#m85248cc2c1\" x=\"61.368752\" y=\"239.758125\" style=\"stroke: #000000; stroke-width: 0.8\"/>\n      </g>\n     </g>\n     <g id=\"text_1\">\n      <!-- −3 -->\n      <g transform=\"translate(53.997658 254.356563)scale(0.1 -0.1)\">\n       <defs>\n        <path id=\"DejaVuSans-2212\" d=\"M 678 2272 \nL 4684 2272 \nL 4684 1741 \nL 678 1741 \nL 678 2272 \nz\n\" transform=\"scale(0.015625)\"/>\n        <path id=\"DejaVuSans-33\" d=\"M 2597 2516 \nQ 3050 2419 3304 2112 \nQ 3559 1806 3559 1356 \nQ 3559 666 3084 287 \nQ 2609 -91 1734 -91 \nQ 1441 -91 1130 -33 \nQ 819 25 488 141 \nL 488 750 \nQ 750 597 1062 519 \nQ 1375 441 1716 441 \nQ 2309 441 2620 675 \nQ 2931 909 2931 1356 \nQ 2931 1769 2642 2001 \nQ 2353 2234 1838 2234 \nL 1294 2234 \nL 1294 2753 \nL 1863 2753 \nQ 2328 2753 2575 2939 \nQ 2822 3125 2822 3475 \nQ 2822 3834 2567 4026 \nQ 2313 4219 1838 4219 \nQ 1578 4219 1281 4162 \nQ 984 4106 628 3988 \nL 628 4550 \nQ 988 4650 1302 4700 \nQ 1616 4750 1894 4750 \nQ 2613 4750 3031 4423 \nQ 3450 4097 3450 3541 \nQ 3450 3153 3228 2886 \nQ 3006 2619 2597 2516 \nz\n\" transform=\"scale(0.015625)\"/>\n       </defs>\n       <use xlink:href=\"#DejaVuSans-2212\"/>\n       <use xlink:href=\"#DejaVuSans-33\" x=\"83.789062\"/>\n      </g>\n     </g>\n    </g>\n    <g id=\"xtick_2\">\n     <g id=\"line2d_2\">\n      <g>\n       <use xlink:href=\"#m85248cc2c1\" x=\"107.007236\" y=\"239.758125\" style=\"stroke: #000000; stroke-width: 0.8\"/>\n      </g>\n     </g>\n     <g id=\"text_2\">\n      <!-- −2 -->\n      <g transform=\"translate(99.636142 254.356563)scale(0.1 -0.1)\">\n       <defs>\n        <path id=\"DejaVuSans-32\" d=\"M 1228 531 \nL 3431 531 \nL 3431 0 \nL 469 0 \nL 469 531 \nQ 828 903 1448 1529 \nQ 2069 2156 2228 2338 \nQ 2531 2678 2651 2914 \nQ 2772 3150 2772 3378 \nQ 2772 3750 2511 3984 \nQ 2250 4219 1831 4219 \nQ 1534 4219 1204 4116 \nQ 875 4013 500 3803 \nL 500 4441 \nQ 881 4594 1212 4672 \nQ 1544 4750 1819 4750 \nQ 2544 4750 2975 4387 \nQ 3406 4025 3406 3419 \nQ 3406 3131 3298 2873 \nQ 3191 2616 2906 2266 \nQ 2828 2175 2409 1742 \nQ 1991 1309 1228 531 \nz\n\" transform=\"scale(0.015625)\"/>\n       </defs>\n       <use xlink:href=\"#DejaVuSans-2212\"/>\n       <use xlink:href=\"#DejaVuSans-32\" x=\"83.789062\"/>\n      </g>\n     </g>\n    </g>\n    <g id=\"xtick_3\">\n     <g id=\"line2d_3\">\n      <g>\n       <use xlink:href=\"#m85248cc2c1\" x=\"152.645721\" y=\"239.758125\" style=\"stroke: #000000; stroke-width: 0.8\"/>\n      </g>\n     </g>\n     <g id=\"text_3\">\n      <!-- −1 -->\n      <g transform=\"translate(145.274627 254.356563)scale(0.1 -0.1)\">\n       <defs>\n        <path id=\"DejaVuSans-31\" d=\"M 794 531 \nL 1825 531 \nL 1825 4091 \nL 703 3866 \nL 703 4441 \nL 1819 4666 \nL 2450 4666 \nL 2450 531 \nL 3481 531 \nL 3481 0 \nL 794 0 \nL 794 531 \nz\n\" transform=\"scale(0.015625)\"/>\n       </defs>\n       <use xlink:href=\"#DejaVuSans-2212\"/>\n       <use xlink:href=\"#DejaVuSans-31\" x=\"83.789062\"/>\n      </g>\n     </g>\n    </g>\n    <g id=\"xtick_4\">\n     <g id=\"line2d_4\">\n      <g>\n       <use xlink:href=\"#m85248cc2c1\" x=\"198.284205\" y=\"239.758125\" style=\"stroke: #000000; stroke-width: 0.8\"/>\n      </g>\n     </g>\n     <g id=\"text_4\">\n      <!-- 0 -->\n      <g transform=\"translate(195.102955 254.356563)scale(0.1 -0.1)\">\n       <defs>\n        <path id=\"DejaVuSans-30\" d=\"M 2034 4250 \nQ 1547 4250 1301 3770 \nQ 1056 3291 1056 2328 \nQ 1056 1369 1301 889 \nQ 1547 409 2034 409 \nQ 2525 409 2770 889 \nQ 3016 1369 3016 2328 \nQ 3016 3291 2770 3770 \nQ 2525 4250 2034 4250 \nz\nM 2034 4750 \nQ 2819 4750 3233 4129 \nQ 3647 3509 3647 2328 \nQ 3647 1150 3233 529 \nQ 2819 -91 2034 -91 \nQ 1250 -91 836 529 \nQ 422 1150 422 2328 \nQ 422 3509 836 4129 \nQ 1250 4750 2034 4750 \nz\n\" transform=\"scale(0.015625)\"/>\n       </defs>\n       <use xlink:href=\"#DejaVuSans-30\"/>\n      </g>\n     </g>\n    </g>\n    <g id=\"xtick_5\">\n     <g id=\"line2d_5\">\n      <g>\n       <use xlink:href=\"#m85248cc2c1\" x=\"243.92269\" y=\"239.758125\" style=\"stroke: #000000; stroke-width: 0.8\"/>\n      </g>\n     </g>\n     <g id=\"text_5\">\n      <!-- 1 -->\n      <g transform=\"translate(240.74144 254.356563)scale(0.1 -0.1)\">\n       <use xlink:href=\"#DejaVuSans-31\"/>\n      </g>\n     </g>\n    </g>\n    <g id=\"xtick_6\">\n     <g id=\"line2d_6\">\n      <g>\n       <use xlink:href=\"#m85248cc2c1\" x=\"289.561174\" y=\"239.758125\" style=\"stroke: #000000; stroke-width: 0.8\"/>\n      </g>\n     </g>\n     <g id=\"text_6\">\n      <!-- 2 -->\n      <g transform=\"translate(286.379924 254.356563)scale(0.1 -0.1)\">\n       <use xlink:href=\"#DejaVuSans-32\"/>\n      </g>\n     </g>\n    </g>\n    <g id=\"xtick_7\">\n     <g id=\"line2d_7\">\n      <g>\n       <use xlink:href=\"#m85248cc2c1\" x=\"335.199659\" y=\"239.758125\" style=\"stroke: #000000; stroke-width: 0.8\"/>\n      </g>\n     </g>\n     <g id=\"text_7\">\n      <!-- 3 -->\n      <g transform=\"translate(332.018409 254.356563)scale(0.1 -0.1)\">\n       <use xlink:href=\"#DejaVuSans-33\"/>\n      </g>\n     </g>\n    </g>\n   </g>\n   <g id=\"matplotlib.axis_2\">\n    <g id=\"ytick_1\">\n     <g id=\"line2d_8\">\n      <defs>\n       <path id=\"ma002e998cc\" d=\"M 0 0 \nL -3.5 0 \n\" style=\"stroke: #000000; stroke-width: 0.8\"/>\n      </defs>\n      <g>\n       <use xlink:href=\"#ma002e998cc\" x=\"33.2875\" y=\"239.758125\" style=\"stroke: #000000; stroke-width: 0.8\"/>\n      </g>\n     </g>\n     <g id=\"text_8\">\n      <!-- 0 -->\n      <g transform=\"translate(19.925 243.557344)scale(0.1 -0.1)\">\n       <use xlink:href=\"#DejaVuSans-30\"/>\n      </g>\n     </g>\n    </g>\n    <g id=\"ytick_2\">\n     <g id=\"line2d_9\">\n      <g>\n       <use xlink:href=\"#ma002e998cc\" x=\"33.2875\" y=\"215.308808\" style=\"stroke: #000000; stroke-width: 0.8\"/>\n      </g>\n     </g>\n     <g id=\"text_9\">\n      <!-- 100 -->\n      <g transform=\"translate(7.2 219.108027)scale(0.1 -0.1)\">\n       <use xlink:href=\"#DejaVuSans-31\"/>\n       <use xlink:href=\"#DejaVuSans-30\" x=\"63.623047\"/>\n       <use xlink:href=\"#DejaVuSans-30\" x=\"127.246094\"/>\n      </g>\n     </g>\n    </g>\n    <g id=\"ytick_3\">\n     <g id=\"line2d_10\">\n      <g>\n       <use xlink:href=\"#ma002e998cc\" x=\"33.2875\" y=\"190.859491\" style=\"stroke: #000000; stroke-width: 0.8\"/>\n      </g>\n     </g>\n     <g id=\"text_10\">\n      <!-- 200 -->\n      <g transform=\"translate(7.2 194.65871)scale(0.1 -0.1)\">\n       <use xlink:href=\"#DejaVuSans-32\"/>\n       <use xlink:href=\"#DejaVuSans-30\" x=\"63.623047\"/>\n       <use xlink:href=\"#DejaVuSans-30\" x=\"127.246094\"/>\n      </g>\n     </g>\n    </g>\n    <g id=\"ytick_4\">\n     <g id=\"line2d_11\">\n      <g>\n       <use xlink:href=\"#ma002e998cc\" x=\"33.2875\" y=\"166.410174\" style=\"stroke: #000000; stroke-width: 0.8\"/>\n      </g>\n     </g>\n     <g id=\"text_11\">\n      <!-- 300 -->\n      <g transform=\"translate(7.2 170.209393)scale(0.1 -0.1)\">\n       <use xlink:href=\"#DejaVuSans-33\"/>\n       <use xlink:href=\"#DejaVuSans-30\" x=\"63.623047\"/>\n       <use xlink:href=\"#DejaVuSans-30\" x=\"127.246094\"/>\n      </g>\n     </g>\n    </g>\n    <g id=\"ytick_5\">\n     <g id=\"line2d_12\">\n      <g>\n       <use xlink:href=\"#ma002e998cc\" x=\"33.2875\" y=\"141.960857\" style=\"stroke: #000000; stroke-width: 0.8\"/>\n      </g>\n     </g>\n     <g id=\"text_12\">\n      <!-- 400 -->\n      <g transform=\"translate(7.2 145.760076)scale(0.1 -0.1)\">\n       <defs>\n        <path id=\"DejaVuSans-34\" d=\"M 2419 4116 \nL 825 1625 \nL 2419 1625 \nL 2419 4116 \nz\nM 2253 4666 \nL 3047 4666 \nL 3047 1625 \nL 3713 1625 \nL 3713 1100 \nL 3047 1100 \nL 3047 0 \nL 2419 0 \nL 2419 1100 \nL 313 1100 \nL 313 1709 \nL 2253 4666 \nz\n\" transform=\"scale(0.015625)\"/>\n       </defs>\n       <use xlink:href=\"#DejaVuSans-34\"/>\n       <use xlink:href=\"#DejaVuSans-30\" x=\"63.623047\"/>\n       <use xlink:href=\"#DejaVuSans-30\" x=\"127.246094\"/>\n      </g>\n     </g>\n    </g>\n    <g id=\"ytick_6\">\n     <g id=\"line2d_13\">\n      <g>\n       <use xlink:href=\"#ma002e998cc\" x=\"33.2875\" y=\"117.51154\" style=\"stroke: #000000; stroke-width: 0.8\"/>\n      </g>\n     </g>\n     <g id=\"text_13\">\n      <!-- 500 -->\n      <g transform=\"translate(7.2 121.310759)scale(0.1 -0.1)\">\n       <defs>\n        <path id=\"DejaVuSans-35\" d=\"M 691 4666 \nL 3169 4666 \nL 3169 4134 \nL 1269 4134 \nL 1269 2991 \nQ 1406 3038 1543 3061 \nQ 1681 3084 1819 3084 \nQ 2600 3084 3056 2656 \nQ 3513 2228 3513 1497 \nQ 3513 744 3044 326 \nQ 2575 -91 1722 -91 \nQ 1428 -91 1123 -41 \nQ 819 9 494 109 \nL 494 744 \nQ 775 591 1075 516 \nQ 1375 441 1709 441 \nQ 2250 441 2565 725 \nQ 2881 1009 2881 1497 \nQ 2881 1984 2565 2268 \nQ 2250 2553 1709 2553 \nQ 1456 2553 1204 2497 \nQ 953 2441 691 2322 \nL 691 4666 \nz\n\" transform=\"scale(0.015625)\"/>\n       </defs>\n       <use xlink:href=\"#DejaVuSans-35\"/>\n       <use xlink:href=\"#DejaVuSans-30\" x=\"63.623047\"/>\n       <use xlink:href=\"#DejaVuSans-30\" x=\"127.246094\"/>\n      </g>\n     </g>\n    </g>\n    <g id=\"ytick_7\">\n     <g id=\"line2d_14\">\n      <g>\n       <use xlink:href=\"#ma002e998cc\" x=\"33.2875\" y=\"93.062223\" style=\"stroke: #000000; stroke-width: 0.8\"/>\n      </g>\n     </g>\n     <g id=\"text_14\">\n      <!-- 600 -->\n      <g transform=\"translate(7.2 96.861442)scale(0.1 -0.1)\">\n       <defs>\n        <path id=\"DejaVuSans-36\" d=\"M 2113 2584 \nQ 1688 2584 1439 2293 \nQ 1191 2003 1191 1497 \nQ 1191 994 1439 701 \nQ 1688 409 2113 409 \nQ 2538 409 2786 701 \nQ 3034 994 3034 1497 \nQ 3034 2003 2786 2293 \nQ 2538 2584 2113 2584 \nz\nM 3366 4563 \nL 3366 3988 \nQ 3128 4100 2886 4159 \nQ 2644 4219 2406 4219 \nQ 1781 4219 1451 3797 \nQ 1122 3375 1075 2522 \nQ 1259 2794 1537 2939 \nQ 1816 3084 2150 3084 \nQ 2853 3084 3261 2657 \nQ 3669 2231 3669 1497 \nQ 3669 778 3244 343 \nQ 2819 -91 2113 -91 \nQ 1303 -91 875 529 \nQ 447 1150 447 2328 \nQ 447 3434 972 4092 \nQ 1497 4750 2381 4750 \nQ 2619 4750 2861 4703 \nQ 3103 4656 3366 4563 \nz\n\" transform=\"scale(0.015625)\"/>\n       </defs>\n       <use xlink:href=\"#DejaVuSans-36\"/>\n       <use xlink:href=\"#DejaVuSans-30\" x=\"63.623047\"/>\n       <use xlink:href=\"#DejaVuSans-30\" x=\"127.246094\"/>\n      </g>\n     </g>\n    </g>\n    <g id=\"ytick_8\">\n     <g id=\"line2d_15\">\n      <g>\n       <use xlink:href=\"#ma002e998cc\" x=\"33.2875\" y=\"68.612907\" style=\"stroke: #000000; stroke-width: 0.8\"/>\n      </g>\n     </g>\n     <g id=\"text_15\">\n      <!-- 700 -->\n      <g transform=\"translate(7.2 72.412125)scale(0.1 -0.1)\">\n       <defs>\n        <path id=\"DejaVuSans-37\" d=\"M 525 4666 \nL 3525 4666 \nL 3525 4397 \nL 1831 0 \nL 1172 0 \nL 2766 4134 \nL 525 4134 \nL 525 4666 \nz\n\" transform=\"scale(0.015625)\"/>\n       </defs>\n       <use xlink:href=\"#DejaVuSans-37\"/>\n       <use xlink:href=\"#DejaVuSans-30\" x=\"63.623047\"/>\n       <use xlink:href=\"#DejaVuSans-30\" x=\"127.246094\"/>\n      </g>\n     </g>\n    </g>\n    <g id=\"ytick_9\">\n     <g id=\"line2d_16\">\n      <g>\n       <use xlink:href=\"#ma002e998cc\" x=\"33.2875\" y=\"44.16359\" style=\"stroke: #000000; stroke-width: 0.8\"/>\n      </g>\n     </g>\n     <g id=\"text_16\">\n      <!-- 800 -->\n      <g transform=\"translate(7.2 47.962808)scale(0.1 -0.1)\">\n       <defs>\n        <path id=\"DejaVuSans-38\" d=\"M 2034 2216 \nQ 1584 2216 1326 1975 \nQ 1069 1734 1069 1313 \nQ 1069 891 1326 650 \nQ 1584 409 2034 409 \nQ 2484 409 2743 651 \nQ 3003 894 3003 1313 \nQ 3003 1734 2745 1975 \nQ 2488 2216 2034 2216 \nz\nM 1403 2484 \nQ 997 2584 770 2862 \nQ 544 3141 544 3541 \nQ 544 4100 942 4425 \nQ 1341 4750 2034 4750 \nQ 2731 4750 3128 4425 \nQ 3525 4100 3525 3541 \nQ 3525 3141 3298 2862 \nQ 3072 2584 2669 2484 \nQ 3125 2378 3379 2068 \nQ 3634 1759 3634 1313 \nQ 3634 634 3220 271 \nQ 2806 -91 2034 -91 \nQ 1263 -91 848 271 \nQ 434 634 434 1313 \nQ 434 1759 690 2068 \nQ 947 2378 1403 2484 \nz\nM 1172 3481 \nQ 1172 3119 1398 2916 \nQ 1625 2713 2034 2713 \nQ 2441 2713 2670 2916 \nQ 2900 3119 2900 3481 \nQ 2900 3844 2670 4047 \nQ 2441 4250 2034 4250 \nQ 1625 4250 1398 4047 \nQ 1172 3844 1172 3481 \nz\n\" transform=\"scale(0.015625)\"/>\n       </defs>\n       <use xlink:href=\"#DejaVuSans-38\"/>\n       <use xlink:href=\"#DejaVuSans-30\" x=\"63.623047\"/>\n       <use xlink:href=\"#DejaVuSans-30\" x=\"127.246094\"/>\n      </g>\n     </g>\n    </g>\n   </g>\n   <g id=\"patch_33\">\n    <path d=\"M 33.2875 239.758125 \nL 33.2875 22.318125 \n\" style=\"fill: none; stroke: #000000; stroke-width: 0.8; stroke-linejoin: miter; stroke-linecap: square\"/>\n   </g>\n   <g id=\"patch_34\">\n    <path d=\"M 368.0875 239.758125 \nL 368.0875 22.318125 \n\" style=\"fill: none; stroke: #000000; stroke-width: 0.8; stroke-linejoin: miter; stroke-linecap: square\"/>\n   </g>\n   <g id=\"patch_35\">\n    <path d=\"M 33.2875 239.758125 \nL 368.0875 239.758125 \n\" style=\"fill: none; stroke: #000000; stroke-width: 0.8; stroke-linejoin: miter; stroke-linecap: square\"/>\n   </g>\n   <g id=\"patch_36\">\n    <path d=\"M 33.2875 22.318125 \nL 368.0875 22.318125 \n\" style=\"fill: none; stroke: #000000; stroke-width: 0.8; stroke-linejoin: miter; stroke-linecap: square\"/>\n   </g>\n   <g id=\"text_17\">\n    <!-- Distribution of our 3 images -->\n    <g transform=\"translate(116.701563 16.318125)scale(0.12 -0.12)\">\n     <defs>\n      <path id=\"DejaVuSans-44\" d=\"M 1259 4147 \nL 1259 519 \nL 2022 519 \nQ 2988 519 3436 956 \nQ 3884 1394 3884 2338 \nQ 3884 3275 3436 3711 \nQ 2988 4147 2022 4147 \nL 1259 4147 \nz\nM 628 4666 \nL 1925 4666 \nQ 3281 4666 3915 4102 \nQ 4550 3538 4550 2338 \nQ 4550 1131 3912 565 \nQ 3275 0 1925 0 \nL 628 0 \nL 628 4666 \nz\n\" transform=\"scale(0.015625)\"/>\n      <path id=\"DejaVuSans-69\" d=\"M 603 3500 \nL 1178 3500 \nL 1178 0 \nL 603 0 \nL 603 3500 \nz\nM 603 4863 \nL 1178 4863 \nL 1178 4134 \nL 603 4134 \nL 603 4863 \nz\n\" transform=\"scale(0.015625)\"/>\n      <path id=\"DejaVuSans-73\" d=\"M 2834 3397 \nL 2834 2853 \nQ 2591 2978 2328 3040 \nQ 2066 3103 1784 3103 \nQ 1356 3103 1142 2972 \nQ 928 2841 928 2578 \nQ 928 2378 1081 2264 \nQ 1234 2150 1697 2047 \nL 1894 2003 \nQ 2506 1872 2764 1633 \nQ 3022 1394 3022 966 \nQ 3022 478 2636 193 \nQ 2250 -91 1575 -91 \nQ 1294 -91 989 -36 \nQ 684 19 347 128 \nL 347 722 \nQ 666 556 975 473 \nQ 1284 391 1588 391 \nQ 1994 391 2212 530 \nQ 2431 669 2431 922 \nQ 2431 1156 2273 1281 \nQ 2116 1406 1581 1522 \nL 1381 1569 \nQ 847 1681 609 1914 \nQ 372 2147 372 2553 \nQ 372 3047 722 3315 \nQ 1072 3584 1716 3584 \nQ 2034 3584 2315 3537 \nQ 2597 3491 2834 3397 \nz\n\" transform=\"scale(0.015625)\"/>\n      <path id=\"DejaVuSans-74\" d=\"M 1172 4494 \nL 1172 3500 \nL 2356 3500 \nL 2356 3053 \nL 1172 3053 \nL 1172 1153 \nQ 1172 725 1289 603 \nQ 1406 481 1766 481 \nL 2356 481 \nL 2356 0 \nL 1766 0 \nQ 1100 0 847 248 \nQ 594 497 594 1153 \nL 594 3053 \nL 172 3053 \nL 172 3500 \nL 594 3500 \nL 594 4494 \nL 1172 4494 \nz\n\" transform=\"scale(0.015625)\"/>\n      <path id=\"DejaVuSans-72\" d=\"M 2631 2963 \nQ 2534 3019 2420 3045 \nQ 2306 3072 2169 3072 \nQ 1681 3072 1420 2755 \nQ 1159 2438 1159 1844 \nL 1159 0 \nL 581 0 \nL 581 3500 \nL 1159 3500 \nL 1159 2956 \nQ 1341 3275 1631 3429 \nQ 1922 3584 2338 3584 \nQ 2397 3584 2469 3576 \nQ 2541 3569 2628 3553 \nL 2631 2963 \nz\n\" transform=\"scale(0.015625)\"/>\n      <path id=\"DejaVuSans-62\" d=\"M 3116 1747 \nQ 3116 2381 2855 2742 \nQ 2594 3103 2138 3103 \nQ 1681 3103 1420 2742 \nQ 1159 2381 1159 1747 \nQ 1159 1113 1420 752 \nQ 1681 391 2138 391 \nQ 2594 391 2855 752 \nQ 3116 1113 3116 1747 \nz\nM 1159 2969 \nQ 1341 3281 1617 3432 \nQ 1894 3584 2278 3584 \nQ 2916 3584 3314 3078 \nQ 3713 2572 3713 1747 \nQ 3713 922 3314 415 \nQ 2916 -91 2278 -91 \nQ 1894 -91 1617 61 \nQ 1341 213 1159 525 \nL 1159 0 \nL 581 0 \nL 581 4863 \nL 1159 4863 \nL 1159 2969 \nz\n\" transform=\"scale(0.015625)\"/>\n      <path id=\"DejaVuSans-75\" d=\"M 544 1381 \nL 544 3500 \nL 1119 3500 \nL 1119 1403 \nQ 1119 906 1312 657 \nQ 1506 409 1894 409 \nQ 2359 409 2629 706 \nQ 2900 1003 2900 1516 \nL 2900 3500 \nL 3475 3500 \nL 3475 0 \nL 2900 0 \nL 2900 538 \nQ 2691 219 2414 64 \nQ 2138 -91 1772 -91 \nQ 1169 -91 856 284 \nQ 544 659 544 1381 \nz\nM 1991 3584 \nL 1991 3584 \nz\n\" transform=\"scale(0.015625)\"/>\n      <path id=\"DejaVuSans-6f\" d=\"M 1959 3097 \nQ 1497 3097 1228 2736 \nQ 959 2375 959 1747 \nQ 959 1119 1226 758 \nQ 1494 397 1959 397 \nQ 2419 397 2687 759 \nQ 2956 1122 2956 1747 \nQ 2956 2369 2687 2733 \nQ 2419 3097 1959 3097 \nz\nM 1959 3584 \nQ 2709 3584 3137 3096 \nQ 3566 2609 3566 1747 \nQ 3566 888 3137 398 \nQ 2709 -91 1959 -91 \nQ 1206 -91 779 398 \nQ 353 888 353 1747 \nQ 353 2609 779 3096 \nQ 1206 3584 1959 3584 \nz\n\" transform=\"scale(0.015625)\"/>\n      <path id=\"DejaVuSans-6e\" d=\"M 3513 2113 \nL 3513 0 \nL 2938 0 \nL 2938 2094 \nQ 2938 2591 2744 2837 \nQ 2550 3084 2163 3084 \nQ 1697 3084 1428 2787 \nQ 1159 2491 1159 1978 \nL 1159 0 \nL 581 0 \nL 581 3500 \nL 1159 3500 \nL 1159 2956 \nQ 1366 3272 1645 3428 \nQ 1925 3584 2291 3584 \nQ 2894 3584 3203 3211 \nQ 3513 2838 3513 2113 \nz\n\" transform=\"scale(0.015625)\"/>\n      <path id=\"DejaVuSans-20\" transform=\"scale(0.015625)\"/>\n      <path id=\"DejaVuSans-66\" d=\"M 2375 4863 \nL 2375 4384 \nL 1825 4384 \nQ 1516 4384 1395 4259 \nQ 1275 4134 1275 3809 \nL 1275 3500 \nL 2222 3500 \nL 2222 3053 \nL 1275 3053 \nL 1275 0 \nL 697 0 \nL 697 3053 \nL 147 3053 \nL 147 3500 \nL 697 3500 \nL 697 3744 \nQ 697 4328 969 4595 \nQ 1241 4863 1831 4863 \nL 2375 4863 \nz\n\" transform=\"scale(0.015625)\"/>\n      <path id=\"DejaVuSans-6d\" d=\"M 3328 2828 \nQ 3544 3216 3844 3400 \nQ 4144 3584 4550 3584 \nQ 5097 3584 5394 3201 \nQ 5691 2819 5691 2113 \nL 5691 0 \nL 5113 0 \nL 5113 2094 \nQ 5113 2597 4934 2840 \nQ 4756 3084 4391 3084 \nQ 3944 3084 3684 2787 \nQ 3425 2491 3425 1978 \nL 3425 0 \nL 2847 0 \nL 2847 2094 \nQ 2847 2600 2669 2842 \nQ 2491 3084 2119 3084 \nQ 1678 3084 1418 2786 \nQ 1159 2488 1159 1978 \nL 1159 0 \nL 581 0 \nL 581 3500 \nL 1159 3500 \nL 1159 2956 \nQ 1356 3278 1631 3431 \nQ 1906 3584 2284 3584 \nQ 2666 3584 2933 3390 \nQ 3200 3197 3328 2828 \nz\n\" transform=\"scale(0.015625)\"/>\n      <path id=\"DejaVuSans-61\" d=\"M 2194 1759 \nQ 1497 1759 1228 1600 \nQ 959 1441 959 1056 \nQ 959 750 1161 570 \nQ 1363 391 1709 391 \nQ 2188 391 2477 730 \nQ 2766 1069 2766 1631 \nL 2766 1759 \nL 2194 1759 \nz\nM 3341 1997 \nL 3341 0 \nL 2766 0 \nL 2766 531 \nQ 2569 213 2275 61 \nQ 1981 -91 1556 -91 \nQ 1019 -91 701 211 \nQ 384 513 384 1019 \nQ 384 1609 779 1909 \nQ 1175 2209 1959 2209 \nL 2766 2209 \nL 2766 2266 \nQ 2766 2663 2505 2880 \nQ 2244 3097 1772 3097 \nQ 1472 3097 1187 3025 \nQ 903 2953 641 2809 \nL 641 3341 \nQ 956 3463 1253 3523 \nQ 1550 3584 1831 3584 \nQ 2591 3584 2966 3190 \nQ 3341 2797 3341 1997 \nz\n\" transform=\"scale(0.015625)\"/>\n      <path id=\"DejaVuSans-67\" d=\"M 2906 1791 \nQ 2906 2416 2648 2759 \nQ 2391 3103 1925 3103 \nQ 1463 3103 1205 2759 \nQ 947 2416 947 1791 \nQ 947 1169 1205 825 \nQ 1463 481 1925 481 \nQ 2391 481 2648 825 \nQ 2906 1169 2906 1791 \nz\nM 3481 434 \nQ 3481 -459 3084 -895 \nQ 2688 -1331 1869 -1331 \nQ 1566 -1331 1297 -1286 \nQ 1028 -1241 775 -1147 \nL 775 -588 \nQ 1028 -725 1275 -790 \nQ 1522 -856 1778 -856 \nQ 2344 -856 2625 -561 \nQ 2906 -266 2906 331 \nL 2906 616 \nQ 2728 306 2450 153 \nQ 2172 0 1784 0 \nQ 1141 0 747 490 \nQ 353 981 353 1791 \nQ 353 2603 747 3093 \nQ 1141 3584 1784 3584 \nQ 2172 3584 2450 3431 \nQ 2728 3278 2906 2969 \nL 2906 3500 \nL 3481 3500 \nL 3481 434 \nz\n\" transform=\"scale(0.015625)\"/>\n      <path id=\"DejaVuSans-65\" d=\"M 3597 1894 \nL 3597 1613 \nL 953 1613 \nQ 991 1019 1311 708 \nQ 1631 397 2203 397 \nQ 2534 397 2845 478 \nQ 3156 559 3463 722 \nL 3463 178 \nQ 3153 47 2828 -22 \nQ 2503 -91 2169 -91 \nQ 1331 -91 842 396 \nQ 353 884 353 1716 \nQ 353 2575 817 3079 \nQ 1281 3584 2069 3584 \nQ 2775 3584 3186 3129 \nQ 3597 2675 3597 1894 \nz\nM 3022 2063 \nQ 3016 2534 2758 2815 \nQ 2500 3097 2075 3097 \nQ 1594 3097 1305 2825 \nQ 1016 2553 972 2059 \nL 3022 2063 \nz\n\" transform=\"scale(0.015625)\"/>\n     </defs>\n     <use xlink:href=\"#DejaVuSans-44\"/>\n     <use xlink:href=\"#DejaVuSans-69\" x=\"77.001953\"/>\n     <use xlink:href=\"#DejaVuSans-73\" x=\"104.785156\"/>\n     <use xlink:href=\"#DejaVuSans-74\" x=\"156.884766\"/>\n     <use xlink:href=\"#DejaVuSans-72\" x=\"196.09375\"/>\n     <use xlink:href=\"#DejaVuSans-69\" x=\"237.207031\"/>\n     <use xlink:href=\"#DejaVuSans-62\" x=\"264.990234\"/>\n     <use xlink:href=\"#DejaVuSans-75\" x=\"328.466797\"/>\n     <use xlink:href=\"#DejaVuSans-74\" x=\"391.845703\"/>\n     <use xlink:href=\"#DejaVuSans-69\" x=\"431.054688\"/>\n     <use xlink:href=\"#DejaVuSans-6f\" x=\"458.837891\"/>\n     <use xlink:href=\"#DejaVuSans-6e\" x=\"520.019531\"/>\n     <use xlink:href=\"#DejaVuSans-20\" x=\"583.398438\"/>\n     <use xlink:href=\"#DejaVuSans-6f\" x=\"615.185547\"/>\n     <use xlink:href=\"#DejaVuSans-66\" x=\"676.367188\"/>\n     <use xlink:href=\"#DejaVuSans-20\" x=\"711.572266\"/>\n     <use xlink:href=\"#DejaVuSans-6f\" x=\"743.359375\"/>\n     <use xlink:href=\"#DejaVuSans-75\" x=\"804.541016\"/>\n     <use xlink:href=\"#DejaVuSans-72\" x=\"867.919922\"/>\n     <use xlink:href=\"#DejaVuSans-20\" x=\"909.033203\"/>\n     <use xlink:href=\"#DejaVuSans-33\" x=\"940.820312\"/>\n     <use xlink:href=\"#DejaVuSans-20\" x=\"1004.443359\"/>\n     <use xlink:href=\"#DejaVuSans-69\" x=\"1036.230469\"/>\n     <use xlink:href=\"#DejaVuSans-6d\" x=\"1064.013672\"/>\n     <use xlink:href=\"#DejaVuSans-61\" x=\"1161.425781\"/>\n     <use xlink:href=\"#DejaVuSans-67\" x=\"1222.705078\"/>\n     <use xlink:href=\"#DejaVuSans-65\" x=\"1286.181641\"/>\n     <use xlink:href=\"#DejaVuSans-73\" x=\"1347.705078\"/>\n    </g>\n   </g>\n  </g>\n </g>\n <defs>\n  <clipPath id=\"p9cbe903d55\">\n   <rect x=\"33.2875\" y=\"22.318125\" width=\"334.8\" height=\"217.44\"/>\n  </clipPath>\n </defs>\n</svg>\n",
      "text/plain": [
       "<Figure size 432x288 with 1 Axes>"
      ]
     },
     "metadata": {
      "needs_background": "light"
     },
     "output_type": "display_data"
    }
   ],
   "source": [
    "flattened_images = images.flatten(start_dim=1) # or images.reshape(n, -1)\n",
    "print(f'Flattened images shape:\\t{flattened_images.shape}')\n",
    "\n",
    "plt.title(f'Distribution of our {n} images')\n",
    "plt.hist(x=flattened_images, color=('crimson','purple','tomato'))\n",
    "plt.plot()"
   ]
  },
  {
   "cell_type": "markdown",
   "metadata": {},
   "source": [
    "## **2) Gradients**"
   ]
  },
  {
   "cell_type": "markdown",
   "metadata": {},
   "source": [
    "Numerical operations in PyTorch are almost identical to that in NumPy. However, PyTorch can automatically differentiate operations by backpropogating through a computational graph dynamically produced behind the scenes. This computational graph keeps tracks of the calculations a tensor was part of. It is our responsibility, however, to explicitly tell PyTorch\n",
    "1. which tensors require gradients,\n",
    "2. and when to backpropogate to produce a gradient.\n",
    "\n",
    "For 1. we just need to pass the `requires_grad=True` argument into any of the initialization methods above. However, the `torch.nn.Parameter` class will do this for you for tensors that already exist. We will use this wrapper because it is meant for tensors that represent neural network parameters which will be updated after backpropogation.\n",
    "\n",
    "For 2. we simply call the `.backward()` API."
   ]
  },
  {
   "cell_type": "code",
   "execution_count": 6,
   "metadata": {},
   "outputs": [
    {
     "name": "stdout",
     "output_type": "stream",
     "text": [
      "Gradient of f(x) at x = 1.0:\t3.0\n",
      "Is this gradient right?:\tTrue\n"
     ]
    }
   ],
   "source": [
    "f = lambda x: x**3       # define  f(x) = x^3 + x\n",
    "df = lambda x: 3 * x**2  # define ∇f(x) = 3*x^2 + 1 as sanity check\n",
    "\n",
    "x = torch.tensor(1.0, requires_grad=True)  # initialize x = 1.0\n",
    "x = torch.nn.Parameter(torch.tensor(1.0))  # this also initializes x = 1.0\n",
    "\n",
    "y = f(x)      # calculate f(x)\n",
    "y.backward()  # backpropogate and calculate gradient of f(x) at x = 1.0\n",
    "print(f'Gradient of f(x) at x = {x}:\\t{x.grad}')\n",
    "print(f'Is this gradient right?:\\t{x.grad == df(x)}')"
   ]
  },
  {
   "cell_type": "markdown",
   "metadata": {},
   "source": [
    "We can even plot the function's derivative over a range to visualize it! Note that before passing our tensors into Matplotlib's `plot`, we must detach them from their gradient information. That is, we want only the underlying tensor. We can do this by `with torch.no_grad()`. If we do not do this, PyTorch will panic since Matplotlib will try to convert the tensor to a NumPy array but cannot because that tensor requires a gradient."
   ]
  },
  {
   "cell_type": "code",
   "execution_count": 7,
   "metadata": {},
   "outputs": [
    {
     "data": {
      "image/svg+xml": "<?xml version=\"1.0\" encoding=\"utf-8\" standalone=\"no\"?>\n<!DOCTYPE svg PUBLIC \"-//W3C//DTD SVG 1.1//EN\"\n  \"http://www.w3.org/Graphics/SVG/1.1/DTD/svg11.dtd\">\n<svg xmlns:xlink=\"http://www.w3.org/1999/xlink\" width=\"380.482812pt\" height=\"263.63625pt\" viewBox=\"0 0 380.482812 263.63625\" xmlns=\"http://www.w3.org/2000/svg\" version=\"1.1\">\n <metadata>\n  <rdf:RDF xmlns:dc=\"http://purl.org/dc/elements/1.1/\" xmlns:cc=\"http://creativecommons.org/ns#\" xmlns:rdf=\"http://www.w3.org/1999/02/22-rdf-syntax-ns#\">\n   <cc:Work>\n    <dc:type rdf:resource=\"http://purl.org/dc/dcmitype/StillImage\"/>\n    <dc:date>2022-03-02T18:07:16.340065</dc:date>\n    <dc:format>image/svg+xml</dc:format>\n    <dc:creator>\n     <cc:Agent>\n      <dc:title>Matplotlib v3.5.1, https://matplotlib.org/</dc:title>\n     </cc:Agent>\n    </dc:creator>\n   </cc:Work>\n  </rdf:RDF>\n </metadata>\n <defs>\n  <style type=\"text/css\">*{stroke-linejoin: round; stroke-linecap: butt}</style>\n </defs>\n <g id=\"figure_1\">\n  <g id=\"patch_1\">\n   <path d=\"M -0 263.63625 \nL 380.482812 263.63625 \nL 380.482812 0 \nL -0 0 \nL -0 263.63625 \nz\n\" style=\"fill: none\"/>\n  </g>\n  <g id=\"axes_1\">\n   <g id=\"patch_2\">\n    <path d=\"M 38.482813 239.758125 \nL 373.282813 239.758125 \nL 373.282813 22.318125 \nL 38.482813 22.318125 \nz\n\" style=\"fill: #ffffff\"/>\n   </g>\n   <g id=\"matplotlib.axis_1\">\n    <g id=\"xtick_1\">\n     <g id=\"line2d_1\">\n      <defs>\n       <path id=\"m9ee9eea03b\" d=\"M 0 0 \nL 0 3.5 \n\" style=\"stroke: #000000; stroke-width: 0.8\"/>\n      </defs>\n      <g>\n       <use xlink:href=\"#m9ee9eea03b\" x=\"53.700994\" y=\"239.758125\" style=\"stroke: #000000; stroke-width: 0.8\"/>\n      </g>\n     </g>\n     <g id=\"text_1\">\n      <!-- −2.0 -->\n      <g transform=\"translate(41.559588 254.356563)scale(0.1 -0.1)\">\n       <defs>\n        <path id=\"DejaVuSans-2212\" d=\"M 678 2272 \nL 4684 2272 \nL 4684 1741 \nL 678 1741 \nL 678 2272 \nz\n\" transform=\"scale(0.015625)\"/>\n        <path id=\"DejaVuSans-32\" d=\"M 1228 531 \nL 3431 531 \nL 3431 0 \nL 469 0 \nL 469 531 \nQ 828 903 1448 1529 \nQ 2069 2156 2228 2338 \nQ 2531 2678 2651 2914 \nQ 2772 3150 2772 3378 \nQ 2772 3750 2511 3984 \nQ 2250 4219 1831 4219 \nQ 1534 4219 1204 4116 \nQ 875 4013 500 3803 \nL 500 4441 \nQ 881 4594 1212 4672 \nQ 1544 4750 1819 4750 \nQ 2544 4750 2975 4387 \nQ 3406 4025 3406 3419 \nQ 3406 3131 3298 2873 \nQ 3191 2616 2906 2266 \nQ 2828 2175 2409 1742 \nQ 1991 1309 1228 531 \nz\n\" transform=\"scale(0.015625)\"/>\n        <path id=\"DejaVuSans-2e\" d=\"M 684 794 \nL 1344 794 \nL 1344 0 \nL 684 0 \nL 684 794 \nz\n\" transform=\"scale(0.015625)\"/>\n        <path id=\"DejaVuSans-30\" d=\"M 2034 4250 \nQ 1547 4250 1301 3770 \nQ 1056 3291 1056 2328 \nQ 1056 1369 1301 889 \nQ 1547 409 2034 409 \nQ 2525 409 2770 889 \nQ 3016 1369 3016 2328 \nQ 3016 3291 2770 3770 \nQ 2525 4250 2034 4250 \nz\nM 2034 4750 \nQ 2819 4750 3233 4129 \nQ 3647 3509 3647 2328 \nQ 3647 1150 3233 529 \nQ 2819 -91 2034 -91 \nQ 1250 -91 836 529 \nQ 422 1150 422 2328 \nQ 422 3509 836 4129 \nQ 1250 4750 2034 4750 \nz\n\" transform=\"scale(0.015625)\"/>\n       </defs>\n       <use xlink:href=\"#DejaVuSans-2212\"/>\n       <use xlink:href=\"#DejaVuSans-32\" x=\"83.789062\"/>\n       <use xlink:href=\"#DejaVuSans-2e\" x=\"147.412109\"/>\n       <use xlink:href=\"#DejaVuSans-30\" x=\"179.199219\"/>\n      </g>\n     </g>\n    </g>\n    <g id=\"xtick_2\">\n     <g id=\"line2d_2\">\n      <g>\n       <use xlink:href=\"#m9ee9eea03b\" x=\"91.746449\" y=\"239.758125\" style=\"stroke: #000000; stroke-width: 0.8\"/>\n      </g>\n     </g>\n     <g id=\"text_2\">\n      <!-- −1.5 -->\n      <g transform=\"translate(79.605043 254.356563)scale(0.1 -0.1)\">\n       <defs>\n        <path id=\"DejaVuSans-31\" d=\"M 794 531 \nL 1825 531 \nL 1825 4091 \nL 703 3866 \nL 703 4441 \nL 1819 4666 \nL 2450 4666 \nL 2450 531 \nL 3481 531 \nL 3481 0 \nL 794 0 \nL 794 531 \nz\n\" transform=\"scale(0.015625)\"/>\n        <path id=\"DejaVuSans-35\" d=\"M 691 4666 \nL 3169 4666 \nL 3169 4134 \nL 1269 4134 \nL 1269 2991 \nQ 1406 3038 1543 3061 \nQ 1681 3084 1819 3084 \nQ 2600 3084 3056 2656 \nQ 3513 2228 3513 1497 \nQ 3513 744 3044 326 \nQ 2575 -91 1722 -91 \nQ 1428 -91 1123 -41 \nQ 819 9 494 109 \nL 494 744 \nQ 775 591 1075 516 \nQ 1375 441 1709 441 \nQ 2250 441 2565 725 \nQ 2881 1009 2881 1497 \nQ 2881 1984 2565 2268 \nQ 2250 2553 1709 2553 \nQ 1456 2553 1204 2497 \nQ 953 2441 691 2322 \nL 691 4666 \nz\n\" transform=\"scale(0.015625)\"/>\n       </defs>\n       <use xlink:href=\"#DejaVuSans-2212\"/>\n       <use xlink:href=\"#DejaVuSans-31\" x=\"83.789062\"/>\n       <use xlink:href=\"#DejaVuSans-2e\" x=\"147.412109\"/>\n       <use xlink:href=\"#DejaVuSans-35\" x=\"179.199219\"/>\n      </g>\n     </g>\n    </g>\n    <g id=\"xtick_3\">\n     <g id=\"line2d_3\">\n      <g>\n       <use xlink:href=\"#m9ee9eea03b\" x=\"129.791903\" y=\"239.758125\" style=\"stroke: #000000; stroke-width: 0.8\"/>\n      </g>\n     </g>\n     <g id=\"text_3\">\n      <!-- −1.0 -->\n      <g transform=\"translate(117.650497 254.356563)scale(0.1 -0.1)\">\n       <use xlink:href=\"#DejaVuSans-2212\"/>\n       <use xlink:href=\"#DejaVuSans-31\" x=\"83.789062\"/>\n       <use xlink:href=\"#DejaVuSans-2e\" x=\"147.412109\"/>\n       <use xlink:href=\"#DejaVuSans-30\" x=\"179.199219\"/>\n      </g>\n     </g>\n    </g>\n    <g id=\"xtick_4\">\n     <g id=\"line2d_4\">\n      <g>\n       <use xlink:href=\"#m9ee9eea03b\" x=\"167.837358\" y=\"239.758125\" style=\"stroke: #000000; stroke-width: 0.8\"/>\n      </g>\n     </g>\n     <g id=\"text_4\">\n      <!-- −0.5 -->\n      <g transform=\"translate(155.695952 254.356563)scale(0.1 -0.1)\">\n       <use xlink:href=\"#DejaVuSans-2212\"/>\n       <use xlink:href=\"#DejaVuSans-30\" x=\"83.789062\"/>\n       <use xlink:href=\"#DejaVuSans-2e\" x=\"147.412109\"/>\n       <use xlink:href=\"#DejaVuSans-35\" x=\"179.199219\"/>\n      </g>\n     </g>\n    </g>\n    <g id=\"xtick_5\">\n     <g id=\"line2d_5\">\n      <g>\n       <use xlink:href=\"#m9ee9eea03b\" x=\"205.882812\" y=\"239.758125\" style=\"stroke: #000000; stroke-width: 0.8\"/>\n      </g>\n     </g>\n     <g id=\"text_5\">\n      <!-- 0.0 -->\n      <g transform=\"translate(197.93125 254.356563)scale(0.1 -0.1)\">\n       <use xlink:href=\"#DejaVuSans-30\"/>\n       <use xlink:href=\"#DejaVuSans-2e\" x=\"63.623047\"/>\n       <use xlink:href=\"#DejaVuSans-30\" x=\"95.410156\"/>\n      </g>\n     </g>\n    </g>\n    <g id=\"xtick_6\">\n     <g id=\"line2d_6\">\n      <g>\n       <use xlink:href=\"#m9ee9eea03b\" x=\"243.928267\" y=\"239.758125\" style=\"stroke: #000000; stroke-width: 0.8\"/>\n      </g>\n     </g>\n     <g id=\"text_6\">\n      <!-- 0.5 -->\n      <g transform=\"translate(235.976705 254.356563)scale(0.1 -0.1)\">\n       <use xlink:href=\"#DejaVuSans-30\"/>\n       <use xlink:href=\"#DejaVuSans-2e\" x=\"63.623047\"/>\n       <use xlink:href=\"#DejaVuSans-35\" x=\"95.410156\"/>\n      </g>\n     </g>\n    </g>\n    <g id=\"xtick_7\">\n     <g id=\"line2d_7\">\n      <g>\n       <use xlink:href=\"#m9ee9eea03b\" x=\"281.973722\" y=\"239.758125\" style=\"stroke: #000000; stroke-width: 0.8\"/>\n      </g>\n     </g>\n     <g id=\"text_7\">\n      <!-- 1.0 -->\n      <g transform=\"translate(274.022159 254.356563)scale(0.1 -0.1)\">\n       <use xlink:href=\"#DejaVuSans-31\"/>\n       <use xlink:href=\"#DejaVuSans-2e\" x=\"63.623047\"/>\n       <use xlink:href=\"#DejaVuSans-30\" x=\"95.410156\"/>\n      </g>\n     </g>\n    </g>\n    <g id=\"xtick_8\">\n     <g id=\"line2d_8\">\n      <g>\n       <use xlink:href=\"#m9ee9eea03b\" x=\"320.019176\" y=\"239.758125\" style=\"stroke: #000000; stroke-width: 0.8\"/>\n      </g>\n     </g>\n     <g id=\"text_8\">\n      <!-- 1.5 -->\n      <g transform=\"translate(312.067614 254.356563)scale(0.1 -0.1)\">\n       <use xlink:href=\"#DejaVuSans-31\"/>\n       <use xlink:href=\"#DejaVuSans-2e\" x=\"63.623047\"/>\n       <use xlink:href=\"#DejaVuSans-35\" x=\"95.410156\"/>\n      </g>\n     </g>\n    </g>\n    <g id=\"xtick_9\">\n     <g id=\"line2d_9\">\n      <g>\n       <use xlink:href=\"#m9ee9eea03b\" x=\"358.064631\" y=\"239.758125\" style=\"stroke: #000000; stroke-width: 0.8\"/>\n      </g>\n     </g>\n     <g id=\"text_9\">\n      <!-- 2.0 -->\n      <g transform=\"translate(350.113068 254.356563)scale(0.1 -0.1)\">\n       <use xlink:href=\"#DejaVuSans-32\"/>\n       <use xlink:href=\"#DejaVuSans-2e\" x=\"63.623047\"/>\n       <use xlink:href=\"#DejaVuSans-30\" x=\"95.410156\"/>\n      </g>\n     </g>\n    </g>\n   </g>\n   <g id=\"matplotlib.axis_2\">\n    <g id=\"ytick_1\">\n     <g id=\"line2d_10\">\n      <defs>\n       <path id=\"m0eec1ded0f\" d=\"M 0 0 \nL -3.5 0 \n\" style=\"stroke: #000000; stroke-width: 0.8\"/>\n      </defs>\n      <g>\n       <use xlink:href=\"#m0eec1ded0f\" x=\"38.482813\" y=\"224.93267\" style=\"stroke: #000000; stroke-width: 0.8\"/>\n      </g>\n     </g>\n     <g id=\"text_10\">\n      <!-- −7.5 -->\n      <g transform=\"translate(7.2 228.731889)scale(0.1 -0.1)\">\n       <defs>\n        <path id=\"DejaVuSans-37\" d=\"M 525 4666 \nL 3525 4666 \nL 3525 4397 \nL 1831 0 \nL 1172 0 \nL 2766 4134 \nL 525 4134 \nL 525 4666 \nz\n\" transform=\"scale(0.015625)\"/>\n       </defs>\n       <use xlink:href=\"#DejaVuSans-2212\"/>\n       <use xlink:href=\"#DejaVuSans-37\" x=\"83.789062\"/>\n       <use xlink:href=\"#DejaVuSans-2e\" x=\"147.412109\"/>\n       <use xlink:href=\"#DejaVuSans-35\" x=\"179.199219\"/>\n      </g>\n     </g>\n    </g>\n    <g id=\"ytick_2\">\n     <g id=\"line2d_11\">\n      <g>\n       <use xlink:href=\"#m0eec1ded0f\" x=\"38.482813\" y=\"200.22358\" style=\"stroke: #000000; stroke-width: 0.8\"/>\n      </g>\n     </g>\n     <g id=\"text_11\">\n      <!-- −5.0 -->\n      <g transform=\"translate(7.2 204.022798)scale(0.1 -0.1)\">\n       <use xlink:href=\"#DejaVuSans-2212\"/>\n       <use xlink:href=\"#DejaVuSans-35\" x=\"83.789062\"/>\n       <use xlink:href=\"#DejaVuSans-2e\" x=\"147.412109\"/>\n       <use xlink:href=\"#DejaVuSans-30\" x=\"179.199219\"/>\n      </g>\n     </g>\n    </g>\n    <g id=\"ytick_3\">\n     <g id=\"line2d_12\">\n      <g>\n       <use xlink:href=\"#m0eec1ded0f\" x=\"38.482813\" y=\"175.514489\" style=\"stroke: #000000; stroke-width: 0.8\"/>\n      </g>\n     </g>\n     <g id=\"text_12\">\n      <!-- −2.5 -->\n      <g transform=\"translate(7.2 179.313707)scale(0.1 -0.1)\">\n       <use xlink:href=\"#DejaVuSans-2212\"/>\n       <use xlink:href=\"#DejaVuSans-32\" x=\"83.789062\"/>\n       <use xlink:href=\"#DejaVuSans-2e\" x=\"147.412109\"/>\n       <use xlink:href=\"#DejaVuSans-35\" x=\"179.199219\"/>\n      </g>\n     </g>\n    </g>\n    <g id=\"ytick_4\">\n     <g id=\"line2d_13\">\n      <g>\n       <use xlink:href=\"#m0eec1ded0f\" x=\"38.482813\" y=\"150.805398\" style=\"stroke: #000000; stroke-width: 0.8\"/>\n      </g>\n     </g>\n     <g id=\"text_13\">\n      <!-- 0.0 -->\n      <g transform=\"translate(15.579688 154.604616)scale(0.1 -0.1)\">\n       <use xlink:href=\"#DejaVuSans-30\"/>\n       <use xlink:href=\"#DejaVuSans-2e\" x=\"63.623047\"/>\n       <use xlink:href=\"#DejaVuSans-30\" x=\"95.410156\"/>\n      </g>\n     </g>\n    </g>\n    <g id=\"ytick_5\">\n     <g id=\"line2d_14\">\n      <g>\n       <use xlink:href=\"#m0eec1ded0f\" x=\"38.482813\" y=\"126.096307\" style=\"stroke: #000000; stroke-width: 0.8\"/>\n      </g>\n     </g>\n     <g id=\"text_14\">\n      <!-- 2.5 -->\n      <g transform=\"translate(15.579688 129.895526)scale(0.1 -0.1)\">\n       <use xlink:href=\"#DejaVuSans-32\"/>\n       <use xlink:href=\"#DejaVuSans-2e\" x=\"63.623047\"/>\n       <use xlink:href=\"#DejaVuSans-35\" x=\"95.410156\"/>\n      </g>\n     </g>\n    </g>\n    <g id=\"ytick_6\">\n     <g id=\"line2d_15\">\n      <g>\n       <use xlink:href=\"#m0eec1ded0f\" x=\"38.482813\" y=\"101.387216\" style=\"stroke: #000000; stroke-width: 0.8\"/>\n      </g>\n     </g>\n     <g id=\"text_15\">\n      <!-- 5.0 -->\n      <g transform=\"translate(15.579688 105.186435)scale(0.1 -0.1)\">\n       <use xlink:href=\"#DejaVuSans-35\"/>\n       <use xlink:href=\"#DejaVuSans-2e\" x=\"63.623047\"/>\n       <use xlink:href=\"#DejaVuSans-30\" x=\"95.410156\"/>\n      </g>\n     </g>\n    </g>\n    <g id=\"ytick_7\">\n     <g id=\"line2d_16\">\n      <g>\n       <use xlink:href=\"#m0eec1ded0f\" x=\"38.482813\" y=\"76.678125\" style=\"stroke: #000000; stroke-width: 0.8\"/>\n      </g>\n     </g>\n     <g id=\"text_16\">\n      <!-- 7.5 -->\n      <g transform=\"translate(15.579688 80.477344)scale(0.1 -0.1)\">\n       <use xlink:href=\"#DejaVuSans-37\"/>\n       <use xlink:href=\"#DejaVuSans-2e\" x=\"63.623047\"/>\n       <use xlink:href=\"#DejaVuSans-35\" x=\"95.410156\"/>\n      </g>\n     </g>\n    </g>\n    <g id=\"ytick_8\">\n     <g id=\"line2d_17\">\n      <g>\n       <use xlink:href=\"#m0eec1ded0f\" x=\"38.482813\" y=\"51.969034\" style=\"stroke: #000000; stroke-width: 0.8\"/>\n      </g>\n     </g>\n     <g id=\"text_17\">\n      <!-- 10.0 -->\n      <g transform=\"translate(9.217188 55.768253)scale(0.1 -0.1)\">\n       <use xlink:href=\"#DejaVuSans-31\"/>\n       <use xlink:href=\"#DejaVuSans-30\" x=\"63.623047\"/>\n       <use xlink:href=\"#DejaVuSans-2e\" x=\"127.246094\"/>\n       <use xlink:href=\"#DejaVuSans-30\" x=\"159.033203\"/>\n      </g>\n     </g>\n    </g>\n    <g id=\"ytick_9\">\n     <g id=\"line2d_18\">\n      <g>\n       <use xlink:href=\"#m0eec1ded0f\" x=\"38.482813\" y=\"27.259943\" style=\"stroke: #000000; stroke-width: 0.8\"/>\n      </g>\n     </g>\n     <g id=\"text_18\">\n      <!-- 12.5 -->\n      <g transform=\"translate(9.217188 31.059162)scale(0.1 -0.1)\">\n       <use xlink:href=\"#DejaVuSans-31\"/>\n       <use xlink:href=\"#DejaVuSans-32\" x=\"63.623047\"/>\n       <use xlink:href=\"#DejaVuSans-2e\" x=\"127.246094\"/>\n       <use xlink:href=\"#DejaVuSans-35\" x=\"159.033203\"/>\n      </g>\n     </g>\n    </g>\n   </g>\n   <g id=\"line2d_19\">\n    <path d=\"M 53.700994 229.874489 \nL 56.744628 225.224601 \nL 59.78827 220.760664 \nL 62.831904 216.478919 \nL 65.875537 212.375551 \nL 68.91918 208.446758 \nL 71.962813 204.68877 \nL 75.006447 201.097768 \nL 78.05008 197.669973 \nL 81.093714 194.401569 \nL 84.137356 191.288774 \nL 87.18099 188.327798 \nL 90.224623 185.514837 \nL 93.268266 182.846093 \nL 96.311899 180.317779 \nL 99.355533 177.926103 \nL 102.399175 175.667252 \nL 105.442809 173.537447 \nL 108.486451 171.532885 \nL 111.530085 169.649777 \nL 114.573718 167.884323 \nL 117.61736 166.232724 \nL 120.660994 164.691195 \nL 123.704627 163.255934 \nL 126.74827 161.923143 \nL 129.791908 160.689032 \nL 132.835541 159.549806 \nL 135.879179 158.501666 \nL 138.922813 157.540819 \nL 141.966451 156.663468 \nL 145.010089 155.865819 \nL 148.053722 155.144077 \nL 151.097356 154.494445 \nL 154.140994 153.91313 \nL 157.184627 153.396334 \nL 160.228265 152.940263 \nL 163.271899 152.541123 \nL 166.315537 152.195116 \nL 169.359175 151.898449 \nL 172.40281 151.647326 \nL 175.446442 151.437951 \nL 178.490077 151.266529 \nL 181.533713 151.129265 \nL 184.577351 151.022364 \nL 187.620987 150.942029 \nL 190.664623 150.884467 \nL 193.708259 150.845881 \nL 196.751896 150.822477 \nL 199.795537 150.810458 \nL 202.839173 150.80603 \nL 205.882809 150.805398 \nL 208.926445 150.804765 \nL 211.970082 150.800337 \nL 215.013718 150.788319 \nL 218.057354 150.764914 \nL 221.100991 150.726329 \nL 224.144631 150.668766 \nL 227.188267 150.588432 \nL 230.231903 150.481531 \nL 233.275541 150.344267 \nL 236.319177 150.172845 \nL 239.362812 149.96347 \nL 242.40645 149.712347 \nL 245.450084 149.41568 \nL 248.493726 149.069672 \nL 251.537364 148.670531 \nL 254.580998 148.214461 \nL 257.624636 147.697665 \nL 260.668269 147.11635 \nL 263.711907 146.466718 \nL 266.755545 145.744974 \nL 269.799179 144.947326 \nL 272.842812 144.069976 \nL 275.88645 143.109129 \nL 278.930084 142.060989 \nL 281.973722 140.921761 \nL 285.017355 139.687652 \nL 288.060998 138.354861 \nL 291.104631 136.919601 \nL 294.148265 135.378071 \nL 297.191907 133.726472 \nL 300.23554 131.961019 \nL 303.279183 130.077905 \nL 306.322816 128.073348 \nL 309.36645 125.943543 \nL 312.410092 123.684693 \nL 315.453726 121.293017 \nL 318.497359 118.764702 \nL 321.540993 116.095965 \nL 324.584626 113.283009 \nL 327.628269 110.322021 \nL 330.671902 107.209231 \nL 333.715536 103.940836 \nL 336.759178 100.513028 \nL 339.802812 96.922026 \nL 342.846445 93.164037 \nL 345.890088 89.235244 \nL 348.933721 85.131877 \nL 351.977355 80.850131 \nL 355.020997 76.386195 \nL 358.064631 71.736307 \n\" clip-path=\"url(#p4fa7a56b3b)\" style=\"fill: none; stroke: #000000; stroke-width: 1.5; stroke-linecap: square\"/>\n   </g>\n   <g id=\"line2d_20\">\n    <path d=\"M 53.700994 32.201761 \nL 56.744628 36.898462 \nL 59.78827 41.500284 \nL 62.831904 46.007225 \nL 65.875537 50.419277 \nL 68.91918 54.736459 \nL 71.962813 58.958742 \nL 75.006447 63.086146 \nL 78.05008 67.11866 \nL 81.093714 71.056303 \nL 84.137356 74.899067 \nL 87.18099 78.646942 \nL 90.224623 82.299928 \nL 93.268266 85.858043 \nL 96.311899 89.321269 \nL 99.355533 92.689605 \nL 102.399175 95.963072 \nL 105.442809 99.141649 \nL 108.486451 102.225351 \nL 111.530085 105.214159 \nL 114.573718 108.108087 \nL 117.61736 110.90714 \nL 120.660994 113.611297 \nL 123.704627 116.220574 \nL 126.74827 118.734976 \nL 129.791908 121.154493 \nL 132.835541 123.479119 \nL 135.879179 125.70887 \nL 138.922813 127.843734 \nL 141.966451 129.883718 \nL 145.010089 131.828818 \nL 148.053722 133.679033 \nL 151.097356 135.434365 \nL 154.140994 137.094816 \nL 157.184627 138.660384 \nL 160.228265 140.13107 \nL 163.271899 141.506871 \nL 166.315537 142.787791 \nL 169.359175 143.973828 \nL 172.40281 145.064981 \nL 175.446442 146.06125 \nL 178.490077 146.962638 \nL 181.533713 147.769142 \nL 184.577351 148.480765 \nL 187.620987 149.097504 \nL 190.664623 149.61936 \nL 193.708259 150.046333 \nL 196.751896 150.378424 \nL 199.795537 150.615632 \nL 202.839173 150.757956 \nL 205.882809 150.805398 \nL 208.926445 150.757956 \nL 211.970082 150.615632 \nL 215.013718 150.378425 \nL 218.057354 150.046335 \nL 221.100991 149.619362 \nL 224.144631 149.097505 \nL 227.188267 148.480766 \nL 230.231903 147.769145 \nL 233.275541 146.96264 \nL 236.319177 146.061252 \nL 239.362812 145.064982 \nL 242.40645 143.973828 \nL 245.450084 142.787792 \nL 248.493726 141.506871 \nL 251.537364 140.131068 \nL 254.580998 138.660384 \nL 257.624636 137.094815 \nL 260.668269 135.434365 \nL 263.711907 133.67903 \nL 266.755545 131.828813 \nL 269.799179 129.883713 \nL 272.842812 127.843734 \nL 275.88645 125.708868 \nL 278.930084 123.479119 \nL 281.973722 121.154489 \nL 285.017355 118.734976 \nL 288.060998 116.220574 \nL 291.104631 113.611297 \nL 294.148265 110.90714 \nL 297.191907 108.108087 \nL 300.23554 105.214159 \nL 303.279183 102.225341 \nL 306.322816 99.141649 \nL 309.36645 95.963072 \nL 312.410092 92.689605 \nL 315.453726 89.321269 \nL 318.497359 85.858043 \nL 321.540993 82.299937 \nL 324.584626 78.646952 \nL 327.628269 74.899067 \nL 330.671902 71.056313 \nL 333.715536 67.118679 \nL 336.759178 63.086146 \nL 339.802812 58.958742 \nL 342.846445 54.736459 \nL 345.890088 50.419277 \nL 348.933721 46.007225 \nL 351.977355 41.500284 \nL 355.020997 36.898462 \nL 358.064631 32.201761 \n\" clip-path=\"url(#p4fa7a56b3b)\" style=\"fill: none; stroke: #ff6347; stroke-width: 1.5; stroke-linecap: square\"/>\n   </g>\n   <g id=\"patch_3\">\n    <path d=\"M 38.482813 239.758125 \nL 38.482813 22.318125 \n\" style=\"fill: none; stroke: #000000; stroke-width: 0.8; stroke-linejoin: miter; stroke-linecap: square\"/>\n   </g>\n   <g id=\"patch_4\">\n    <path d=\"M 373.282813 239.758125 \nL 373.282813 22.318125 \n\" style=\"fill: none; stroke: #000000; stroke-width: 0.8; stroke-linejoin: miter; stroke-linecap: square\"/>\n   </g>\n   <g id=\"patch_5\">\n    <path d=\"M 38.482812 239.758125 \nL 373.282812 239.758125 \n\" style=\"fill: none; stroke: #000000; stroke-width: 0.8; stroke-linejoin: miter; stroke-linecap: square\"/>\n   </g>\n   <g id=\"patch_6\">\n    <path d=\"M 38.482812 22.318125 \nL 373.282812 22.318125 \n\" style=\"fill: none; stroke: #000000; stroke-width: 0.8; stroke-linejoin: miter; stroke-linecap: square\"/>\n   </g>\n   <g id=\"text_19\">\n    <!-- Plotting a function and its derivative -->\n    <g transform=\"translate(96.665937 16.318125)scale(0.12 -0.12)\">\n     <defs>\n      <path id=\"DejaVuSans-50\" d=\"M 1259 4147 \nL 1259 2394 \nL 2053 2394 \nQ 2494 2394 2734 2622 \nQ 2975 2850 2975 3272 \nQ 2975 3691 2734 3919 \nQ 2494 4147 2053 4147 \nL 1259 4147 \nz\nM 628 4666 \nL 2053 4666 \nQ 2838 4666 3239 4311 \nQ 3641 3956 3641 3272 \nQ 3641 2581 3239 2228 \nQ 2838 1875 2053 1875 \nL 1259 1875 \nL 1259 0 \nL 628 0 \nL 628 4666 \nz\n\" transform=\"scale(0.015625)\"/>\n      <path id=\"DejaVuSans-6c\" d=\"M 603 4863 \nL 1178 4863 \nL 1178 0 \nL 603 0 \nL 603 4863 \nz\n\" transform=\"scale(0.015625)\"/>\n      <path id=\"DejaVuSans-6f\" d=\"M 1959 3097 \nQ 1497 3097 1228 2736 \nQ 959 2375 959 1747 \nQ 959 1119 1226 758 \nQ 1494 397 1959 397 \nQ 2419 397 2687 759 \nQ 2956 1122 2956 1747 \nQ 2956 2369 2687 2733 \nQ 2419 3097 1959 3097 \nz\nM 1959 3584 \nQ 2709 3584 3137 3096 \nQ 3566 2609 3566 1747 \nQ 3566 888 3137 398 \nQ 2709 -91 1959 -91 \nQ 1206 -91 779 398 \nQ 353 888 353 1747 \nQ 353 2609 779 3096 \nQ 1206 3584 1959 3584 \nz\n\" transform=\"scale(0.015625)\"/>\n      <path id=\"DejaVuSans-74\" d=\"M 1172 4494 \nL 1172 3500 \nL 2356 3500 \nL 2356 3053 \nL 1172 3053 \nL 1172 1153 \nQ 1172 725 1289 603 \nQ 1406 481 1766 481 \nL 2356 481 \nL 2356 0 \nL 1766 0 \nQ 1100 0 847 248 \nQ 594 497 594 1153 \nL 594 3053 \nL 172 3053 \nL 172 3500 \nL 594 3500 \nL 594 4494 \nL 1172 4494 \nz\n\" transform=\"scale(0.015625)\"/>\n      <path id=\"DejaVuSans-69\" d=\"M 603 3500 \nL 1178 3500 \nL 1178 0 \nL 603 0 \nL 603 3500 \nz\nM 603 4863 \nL 1178 4863 \nL 1178 4134 \nL 603 4134 \nL 603 4863 \nz\n\" transform=\"scale(0.015625)\"/>\n      <path id=\"DejaVuSans-6e\" d=\"M 3513 2113 \nL 3513 0 \nL 2938 0 \nL 2938 2094 \nQ 2938 2591 2744 2837 \nQ 2550 3084 2163 3084 \nQ 1697 3084 1428 2787 \nQ 1159 2491 1159 1978 \nL 1159 0 \nL 581 0 \nL 581 3500 \nL 1159 3500 \nL 1159 2956 \nQ 1366 3272 1645 3428 \nQ 1925 3584 2291 3584 \nQ 2894 3584 3203 3211 \nQ 3513 2838 3513 2113 \nz\n\" transform=\"scale(0.015625)\"/>\n      <path id=\"DejaVuSans-67\" d=\"M 2906 1791 \nQ 2906 2416 2648 2759 \nQ 2391 3103 1925 3103 \nQ 1463 3103 1205 2759 \nQ 947 2416 947 1791 \nQ 947 1169 1205 825 \nQ 1463 481 1925 481 \nQ 2391 481 2648 825 \nQ 2906 1169 2906 1791 \nz\nM 3481 434 \nQ 3481 -459 3084 -895 \nQ 2688 -1331 1869 -1331 \nQ 1566 -1331 1297 -1286 \nQ 1028 -1241 775 -1147 \nL 775 -588 \nQ 1028 -725 1275 -790 \nQ 1522 -856 1778 -856 \nQ 2344 -856 2625 -561 \nQ 2906 -266 2906 331 \nL 2906 616 \nQ 2728 306 2450 153 \nQ 2172 0 1784 0 \nQ 1141 0 747 490 \nQ 353 981 353 1791 \nQ 353 2603 747 3093 \nQ 1141 3584 1784 3584 \nQ 2172 3584 2450 3431 \nQ 2728 3278 2906 2969 \nL 2906 3500 \nL 3481 3500 \nL 3481 434 \nz\n\" transform=\"scale(0.015625)\"/>\n      <path id=\"DejaVuSans-20\" transform=\"scale(0.015625)\"/>\n      <path id=\"DejaVuSans-61\" d=\"M 2194 1759 \nQ 1497 1759 1228 1600 \nQ 959 1441 959 1056 \nQ 959 750 1161 570 \nQ 1363 391 1709 391 \nQ 2188 391 2477 730 \nQ 2766 1069 2766 1631 \nL 2766 1759 \nL 2194 1759 \nz\nM 3341 1997 \nL 3341 0 \nL 2766 0 \nL 2766 531 \nQ 2569 213 2275 61 \nQ 1981 -91 1556 -91 \nQ 1019 -91 701 211 \nQ 384 513 384 1019 \nQ 384 1609 779 1909 \nQ 1175 2209 1959 2209 \nL 2766 2209 \nL 2766 2266 \nQ 2766 2663 2505 2880 \nQ 2244 3097 1772 3097 \nQ 1472 3097 1187 3025 \nQ 903 2953 641 2809 \nL 641 3341 \nQ 956 3463 1253 3523 \nQ 1550 3584 1831 3584 \nQ 2591 3584 2966 3190 \nQ 3341 2797 3341 1997 \nz\n\" transform=\"scale(0.015625)\"/>\n      <path id=\"DejaVuSans-66\" d=\"M 2375 4863 \nL 2375 4384 \nL 1825 4384 \nQ 1516 4384 1395 4259 \nQ 1275 4134 1275 3809 \nL 1275 3500 \nL 2222 3500 \nL 2222 3053 \nL 1275 3053 \nL 1275 0 \nL 697 0 \nL 697 3053 \nL 147 3053 \nL 147 3500 \nL 697 3500 \nL 697 3744 \nQ 697 4328 969 4595 \nQ 1241 4863 1831 4863 \nL 2375 4863 \nz\n\" transform=\"scale(0.015625)\"/>\n      <path id=\"DejaVuSans-75\" d=\"M 544 1381 \nL 544 3500 \nL 1119 3500 \nL 1119 1403 \nQ 1119 906 1312 657 \nQ 1506 409 1894 409 \nQ 2359 409 2629 706 \nQ 2900 1003 2900 1516 \nL 2900 3500 \nL 3475 3500 \nL 3475 0 \nL 2900 0 \nL 2900 538 \nQ 2691 219 2414 64 \nQ 2138 -91 1772 -91 \nQ 1169 -91 856 284 \nQ 544 659 544 1381 \nz\nM 1991 3584 \nL 1991 3584 \nz\n\" transform=\"scale(0.015625)\"/>\n      <path id=\"DejaVuSans-63\" d=\"M 3122 3366 \nL 3122 2828 \nQ 2878 2963 2633 3030 \nQ 2388 3097 2138 3097 \nQ 1578 3097 1268 2742 \nQ 959 2388 959 1747 \nQ 959 1106 1268 751 \nQ 1578 397 2138 397 \nQ 2388 397 2633 464 \nQ 2878 531 3122 666 \nL 3122 134 \nQ 2881 22 2623 -34 \nQ 2366 -91 2075 -91 \nQ 1284 -91 818 406 \nQ 353 903 353 1747 \nQ 353 2603 823 3093 \nQ 1294 3584 2113 3584 \nQ 2378 3584 2631 3529 \nQ 2884 3475 3122 3366 \nz\n\" transform=\"scale(0.015625)\"/>\n      <path id=\"DejaVuSans-64\" d=\"M 2906 2969 \nL 2906 4863 \nL 3481 4863 \nL 3481 0 \nL 2906 0 \nL 2906 525 \nQ 2725 213 2448 61 \nQ 2172 -91 1784 -91 \nQ 1150 -91 751 415 \nQ 353 922 353 1747 \nQ 353 2572 751 3078 \nQ 1150 3584 1784 3584 \nQ 2172 3584 2448 3432 \nQ 2725 3281 2906 2969 \nz\nM 947 1747 \nQ 947 1113 1208 752 \nQ 1469 391 1925 391 \nQ 2381 391 2643 752 \nQ 2906 1113 2906 1747 \nQ 2906 2381 2643 2742 \nQ 2381 3103 1925 3103 \nQ 1469 3103 1208 2742 \nQ 947 2381 947 1747 \nz\n\" transform=\"scale(0.015625)\"/>\n      <path id=\"DejaVuSans-73\" d=\"M 2834 3397 \nL 2834 2853 \nQ 2591 2978 2328 3040 \nQ 2066 3103 1784 3103 \nQ 1356 3103 1142 2972 \nQ 928 2841 928 2578 \nQ 928 2378 1081 2264 \nQ 1234 2150 1697 2047 \nL 1894 2003 \nQ 2506 1872 2764 1633 \nQ 3022 1394 3022 966 \nQ 3022 478 2636 193 \nQ 2250 -91 1575 -91 \nQ 1294 -91 989 -36 \nQ 684 19 347 128 \nL 347 722 \nQ 666 556 975 473 \nQ 1284 391 1588 391 \nQ 1994 391 2212 530 \nQ 2431 669 2431 922 \nQ 2431 1156 2273 1281 \nQ 2116 1406 1581 1522 \nL 1381 1569 \nQ 847 1681 609 1914 \nQ 372 2147 372 2553 \nQ 372 3047 722 3315 \nQ 1072 3584 1716 3584 \nQ 2034 3584 2315 3537 \nQ 2597 3491 2834 3397 \nz\n\" transform=\"scale(0.015625)\"/>\n      <path id=\"DejaVuSans-65\" d=\"M 3597 1894 \nL 3597 1613 \nL 953 1613 \nQ 991 1019 1311 708 \nQ 1631 397 2203 397 \nQ 2534 397 2845 478 \nQ 3156 559 3463 722 \nL 3463 178 \nQ 3153 47 2828 -22 \nQ 2503 -91 2169 -91 \nQ 1331 -91 842 396 \nQ 353 884 353 1716 \nQ 353 2575 817 3079 \nQ 1281 3584 2069 3584 \nQ 2775 3584 3186 3129 \nQ 3597 2675 3597 1894 \nz\nM 3022 2063 \nQ 3016 2534 2758 2815 \nQ 2500 3097 2075 3097 \nQ 1594 3097 1305 2825 \nQ 1016 2553 972 2059 \nL 3022 2063 \nz\n\" transform=\"scale(0.015625)\"/>\n      <path id=\"DejaVuSans-72\" d=\"M 2631 2963 \nQ 2534 3019 2420 3045 \nQ 2306 3072 2169 3072 \nQ 1681 3072 1420 2755 \nQ 1159 2438 1159 1844 \nL 1159 0 \nL 581 0 \nL 581 3500 \nL 1159 3500 \nL 1159 2956 \nQ 1341 3275 1631 3429 \nQ 1922 3584 2338 3584 \nQ 2397 3584 2469 3576 \nQ 2541 3569 2628 3553 \nL 2631 2963 \nz\n\" transform=\"scale(0.015625)\"/>\n      <path id=\"DejaVuSans-76\" d=\"M 191 3500 \nL 800 3500 \nL 1894 563 \nL 2988 3500 \nL 3597 3500 \nL 2284 0 \nL 1503 0 \nL 191 3500 \nz\n\" transform=\"scale(0.015625)\"/>\n     </defs>\n     <use xlink:href=\"#DejaVuSans-50\"/>\n     <use xlink:href=\"#DejaVuSans-6c\" x=\"60.302734\"/>\n     <use xlink:href=\"#DejaVuSans-6f\" x=\"88.085938\"/>\n     <use xlink:href=\"#DejaVuSans-74\" x=\"149.267578\"/>\n     <use xlink:href=\"#DejaVuSans-74\" x=\"188.476562\"/>\n     <use xlink:href=\"#DejaVuSans-69\" x=\"227.685547\"/>\n     <use xlink:href=\"#DejaVuSans-6e\" x=\"255.46875\"/>\n     <use xlink:href=\"#DejaVuSans-67\" x=\"318.847656\"/>\n     <use xlink:href=\"#DejaVuSans-20\" x=\"382.324219\"/>\n     <use xlink:href=\"#DejaVuSans-61\" x=\"414.111328\"/>\n     <use xlink:href=\"#DejaVuSans-20\" x=\"475.390625\"/>\n     <use xlink:href=\"#DejaVuSans-66\" x=\"507.177734\"/>\n     <use xlink:href=\"#DejaVuSans-75\" x=\"542.382812\"/>\n     <use xlink:href=\"#DejaVuSans-6e\" x=\"605.761719\"/>\n     <use xlink:href=\"#DejaVuSans-63\" x=\"669.140625\"/>\n     <use xlink:href=\"#DejaVuSans-74\" x=\"724.121094\"/>\n     <use xlink:href=\"#DejaVuSans-69\" x=\"763.330078\"/>\n     <use xlink:href=\"#DejaVuSans-6f\" x=\"791.113281\"/>\n     <use xlink:href=\"#DejaVuSans-6e\" x=\"852.294922\"/>\n     <use xlink:href=\"#DejaVuSans-20\" x=\"915.673828\"/>\n     <use xlink:href=\"#DejaVuSans-61\" x=\"947.460938\"/>\n     <use xlink:href=\"#DejaVuSans-6e\" x=\"1008.740234\"/>\n     <use xlink:href=\"#DejaVuSans-64\" x=\"1072.119141\"/>\n     <use xlink:href=\"#DejaVuSans-20\" x=\"1135.595703\"/>\n     <use xlink:href=\"#DejaVuSans-69\" x=\"1167.382812\"/>\n     <use xlink:href=\"#DejaVuSans-74\" x=\"1195.166016\"/>\n     <use xlink:href=\"#DejaVuSans-73\" x=\"1234.375\"/>\n     <use xlink:href=\"#DejaVuSans-20\" x=\"1286.474609\"/>\n     <use xlink:href=\"#DejaVuSans-64\" x=\"1318.261719\"/>\n     <use xlink:href=\"#DejaVuSans-65\" x=\"1381.738281\"/>\n     <use xlink:href=\"#DejaVuSans-72\" x=\"1443.261719\"/>\n     <use xlink:href=\"#DejaVuSans-69\" x=\"1484.375\"/>\n     <use xlink:href=\"#DejaVuSans-76\" x=\"1512.158203\"/>\n     <use xlink:href=\"#DejaVuSans-61\" x=\"1571.337891\"/>\n     <use xlink:href=\"#DejaVuSans-74\" x=\"1632.617188\"/>\n     <use xlink:href=\"#DejaVuSans-69\" x=\"1671.826172\"/>\n     <use xlink:href=\"#DejaVuSans-76\" x=\"1699.609375\"/>\n     <use xlink:href=\"#DejaVuSans-65\" x=\"1758.789062\"/>\n    </g>\n   </g>\n   <g id=\"legend_1\">\n    <g id=\"patch_7\">\n     <path d=\"M 310.282813 234.758125 \nL 366.282813 234.758125 \nQ 368.282813 234.758125 368.282813 232.758125 \nL 368.282813 204.401875 \nQ 368.282813 202.401875 366.282813 202.401875 \nL 310.282813 202.401875 \nQ 308.282813 202.401875 308.282813 204.401875 \nL 308.282813 232.758125 \nQ 308.282813 234.758125 310.282813 234.758125 \nz\n\" style=\"fill: #ffffff; opacity: 0.8; stroke: #cccccc; stroke-linejoin: miter\"/>\n    </g>\n    <g id=\"line2d_21\">\n     <path d=\"M 312.282813 210.500313 \nL 322.282813 210.500313 \nL 332.282813 210.500313 \n\" style=\"fill: none; stroke: #000000; stroke-width: 1.5; stroke-linecap: square\"/>\n    </g>\n    <g id=\"text_20\">\n     <!-- $f(x)$ -->\n     <g transform=\"translate(340.282813 214.000313)scale(0.1 -0.1)\">\n      <defs>\n       <path id=\"DejaVuSans-Oblique-66\" d=\"M 3059 4863 \nL 2969 4384 \nL 2419 4384 \nQ 2106 4384 1964 4261 \nQ 1822 4138 1753 3809 \nL 1691 3500 \nL 2638 3500 \nL 2553 3053 \nL 1606 3053 \nL 1013 0 \nL 434 0 \nL 1031 3053 \nL 481 3053 \nL 563 3500 \nL 1113 3500 \nL 1159 3744 \nQ 1278 4363 1576 4613 \nQ 1875 4863 2516 4863 \nL 3059 4863 \nz\n\" transform=\"scale(0.015625)\"/>\n       <path id=\"DejaVuSans-28\" d=\"M 1984 4856 \nQ 1566 4138 1362 3434 \nQ 1159 2731 1159 2009 \nQ 1159 1288 1364 580 \nQ 1569 -128 1984 -844 \nL 1484 -844 \nQ 1016 -109 783 600 \nQ 550 1309 550 2009 \nQ 550 2706 781 3412 \nQ 1013 4119 1484 4856 \nL 1984 4856 \nz\n\" transform=\"scale(0.015625)\"/>\n       <path id=\"DejaVuSans-Oblique-78\" d=\"M 3841 3500 \nL 2234 1784 \nL 3219 0 \nL 2559 0 \nL 1819 1388 \nL 531 0 \nL -166 0 \nL 1556 1844 \nL 641 3500 \nL 1300 3500 \nL 1972 2234 \nL 3144 3500 \nL 3841 3500 \nz\n\" transform=\"scale(0.015625)\"/>\n       <path id=\"DejaVuSans-29\" d=\"M 513 4856 \nL 1013 4856 \nQ 1481 4119 1714 3412 \nQ 1947 2706 1947 2009 \nQ 1947 1309 1714 600 \nQ 1481 -109 1013 -844 \nL 513 -844 \nQ 928 -128 1133 580 \nQ 1338 1288 1338 2009 \nQ 1338 2731 1133 3434 \nQ 928 4138 513 4856 \nz\n\" transform=\"scale(0.015625)\"/>\n      </defs>\n      <use xlink:href=\"#DejaVuSans-Oblique-66\" transform=\"translate(0 0.015625)\"/>\n      <use xlink:href=\"#DejaVuSans-28\" transform=\"translate(35.205078 0.015625)\"/>\n      <use xlink:href=\"#DejaVuSans-Oblique-78\" transform=\"translate(74.21875 0.015625)\"/>\n      <use xlink:href=\"#DejaVuSans-29\" transform=\"translate(133.398438 0.015625)\"/>\n     </g>\n    </g>\n    <g id=\"line2d_22\">\n     <path d=\"M 312.282813 225.178438 \nL 322.282813 225.178438 \nL 332.282813 225.178438 \n\" style=\"fill: none; stroke: #ff6347; stroke-width: 1.5; stroke-linecap: square\"/>\n    </g>\n    <g id=\"text_21\">\n     <!-- $\\nabla f(x)$ -->\n     <g transform=\"translate(340.282813 228.678438)scale(0.1 -0.1)\">\n      <defs>\n       <path id=\"DejaVuSans-2207\" d=\"M 2138 659 \nL 3444 4047 \nL 831 4047 \nL 2138 659 \nz\nM 1791 0 \nL -19 4603 \nL 4300 4603 \nL 2491 0 \nL 1791 0 \nz\n\" transform=\"scale(0.015625)\"/>\n      </defs>\n      <use xlink:href=\"#DejaVuSans-2207\" transform=\"translate(0 0.015625)\"/>\n      <use xlink:href=\"#DejaVuSans-Oblique-66\" transform=\"translate(66.894531 0.015625)\"/>\n      <use xlink:href=\"#DejaVuSans-28\" transform=\"translate(102.099609 0.015625)\"/>\n      <use xlink:href=\"#DejaVuSans-Oblique-78\" transform=\"translate(141.113281 0.015625)\"/>\n      <use xlink:href=\"#DejaVuSans-29\" transform=\"translate(200.292969 0.015625)\"/>\n     </g>\n    </g>\n   </g>\n  </g>\n </g>\n <defs>\n  <clipPath id=\"p4fa7a56b3b\">\n   <rect x=\"38.482813\" y=\"22.318125\" width=\"334.8\" height=\"217.44\"/>\n  </clipPath>\n </defs>\n</svg>\n",
      "text/plain": [
       "<Figure size 432x288 with 1 Axes>"
      ]
     },
     "metadata": {
      "needs_background": "light"
     },
     "output_type": "display_data"
    }
   ],
   "source": [
    "x = torch.linspace(start=-2, end=2, steps=101, requires_grad=True)  # points spread across x-axis\n",
    "\n",
    "y = f(x)            # calculate y for every point on x-axis\n",
    "y.sum().backward()  # collapse y into single value in order to calculate the gradient at x value in parrelel\n",
    "\n",
    "with torch.no_grad():  # specify that we will not want to backpropogate on operations within this block\n",
    "  plt.plot(x, y, label='$f(x)$', c='k')\n",
    "  plt.plot(x, x.grad, label=r'$\\nabla f(x)$', c='tomato')\n",
    "plt.title('Plotting a function and its derivative')\n",
    "plt.legend()\n",
    "plt.show()\n"
   ]
  },
  {
   "cell_type": "markdown",
   "metadata": {},
   "source": [
    "In neural networks, `with torch.no_grad()` is very handy for using our network for prediction or once training is done.\n",
    "\n",
    "We can also zero out gradients. This is necessary to reset gradients after every round of gradient descent. (Pay attention, because you will be implementing gradient descent). Notice what happens if we don't zero out our gradient:"
   ]
  },
  {
   "cell_type": "code",
   "execution_count": 8,
   "metadata": {},
   "outputs": [
    {
     "name": "stdout",
     "output_type": "stream",
     "text": [
      "Gradient of f(x) at x = 1.0:\t3.0\n",
      "Gradient of f(x) at x = 1.0:\t6.0 (wrong)\n"
     ]
    }
   ],
   "source": [
    "x = torch.nn.Parameter(torch.tensor(1.0))\n",
    "\n",
    "y = f(x)\n",
    "y.backward()\n",
    "print(f'Gradient of f(x) at x = {x}:\\t{x.grad}')\n",
    "\n",
    "y = f(x)\n",
    "y.backward()\n",
    "print(f'Gradient of f(x) at x = {x}:\\t{x.grad} (wrong)')"
   ]
  },
  {
   "cell_type": "markdown",
   "metadata": {},
   "source": [
    "Now notice what happens if we do zero out our gradient:"
   ]
  },
  {
   "cell_type": "code",
   "execution_count": 114,
   "metadata": {},
   "outputs": [
    {
     "name": "stdout",
     "output_type": "stream",
     "text": [
      "Gradient of f(x) at x = 1.0:\t3.0\n",
      "Gradient after zero=ing:\t0.0\n",
      "Gradient of f(x) at x = 1.0:\t3.0 (right)\n"
     ]
    }
   ],
   "source": [
    "x = torch.nn.Parameter(torch.tensor(1.0))\n",
    "\n",
    "y = f(x)\n",
    "y.backward()\n",
    "print(f'Gradient of f(x) at x = {x}:\\t{x.grad}')\n",
    "\n",
    "x.grad.zero_()\n",
    "print(f'Gradient after zero=ing:\\t{x.grad}')\n",
    "\n",
    "y = f(x)\n",
    "y.backward()\n",
    "print(f'Gradient of f(x) at x = {x}:\\t{x.grad} (right)')\n"
   ]
  },
  {
   "cell_type": "markdown",
   "metadata": {},
   "source": [
    "## **3) Fashion-MNIST**\n"
   ]
  },
  {
   "cell_type": "markdown",
   "metadata": {},
   "source": [
    "Fashion-MNIST is an extremely popular (and non-trivial) example dataset. It consists of $28 \\times 28$ black-and-white images of clothing, each falling into one of 10 categories: 't-shirt', 'trouser', 'pullover', 'dress', 'coat', 'sandal', 'shirt', 'sneaker', 'bag', 'ankle boot'. Our goal is to implement and train an MLP to classify these images from scratch.\n",
    "\n",
    "All the code in this part is written for you, but you should follow each line as you likely need to write these exact (or similar) lines of code multiple times in future research or work.\n",
    "\n",
    "We define a function below that\n",
    "1. downloads the Fashion-MNIST training and test datasets,\n",
    "2. then wraps each dataset in a \"dataloader\":"
   ]
  },
  {
   "cell_type": "code",
   "execution_count": 10,
   "metadata": {},
   "outputs": [],
   "source": [
    "def load_fashion_mnist(batch_size):\n",
    "  trainset = torchvision.datasets.FashionMNIST(root=\"./data\", train=True, transform=torchvision.transforms.ToTensor(), download=True)\n",
    "  testset = torchvision.datasets.FashionMNIST(root=\"./data\", train=False, transform=torchvision.transforms.ToTensor(), download=True)\n",
    "  iter_from = lambda dataset: torch.utils.data.DataLoader(dataset, batch_size, shuffle=True, num_workers=2)\n",
    "  return iter_from(trainset), iter_from(testset), trainset, testset\n",
    "\n",
    "fashion_mnist_labels = ['t-shirt', 'trouser', 'pullover', 'dress', 'coat', 'sandal', 'shirt', 'sneaker', 'bag', 'ankle boot']"
   ]
  },
  {
   "cell_type": "markdown",
   "metadata": {},
   "source": [
    "Let's see how both the dataset and an individual labelled datapoint looks:"
   ]
  },
  {
   "cell_type": "code",
   "execution_count": 11,
   "metadata": {},
   "outputs": [
    {
     "name": "stdout",
     "output_type": "stream",
     "text": [
      "Downloading http://fashion-mnist.s3-website.eu-central-1.amazonaws.com/train-images-idx3-ubyte.gz\n",
      "Downloading http://fashion-mnist.s3-website.eu-central-1.amazonaws.com/train-images-idx3-ubyte.gz to ./data/FashionMNIST/raw/train-images-idx3-ubyte.gz\n"
     ]
    },
    {
     "name": "stderr",
     "output_type": "stream",
     "text": [
      "26422272it [00:06, 3805234.64it/s]                              \n"
     ]
    },
    {
     "name": "stdout",
     "output_type": "stream",
     "text": [
      "Extracting ./data/FashionMNIST/raw/train-images-idx3-ubyte.gz to ./data/FashionMNIST/raw\n",
      "\n",
      "Downloading http://fashion-mnist.s3-website.eu-central-1.amazonaws.com/train-labels-idx1-ubyte.gz\n",
      "Downloading http://fashion-mnist.s3-website.eu-central-1.amazonaws.com/train-labels-idx1-ubyte.gz to ./data/FashionMNIST/raw/train-labels-idx1-ubyte.gz\n"
     ]
    },
    {
     "name": "stderr",
     "output_type": "stream",
     "text": [
      "29696it [00:00, 344585.04it/s]           \n"
     ]
    },
    {
     "name": "stdout",
     "output_type": "stream",
     "text": [
      "Extracting ./data/FashionMNIST/raw/train-labels-idx1-ubyte.gz to ./data/FashionMNIST/raw\n",
      "\n",
      "Downloading http://fashion-mnist.s3-website.eu-central-1.amazonaws.com/t10k-images-idx3-ubyte.gz\n",
      "Downloading http://fashion-mnist.s3-website.eu-central-1.amazonaws.com/t10k-images-idx3-ubyte.gz to ./data/FashionMNIST/raw/t10k-images-idx3-ubyte.gz\n"
     ]
    },
    {
     "name": "stderr",
     "output_type": "stream",
     "text": [
      "4422656it [00:01, 3549474.85it/s]                             \n"
     ]
    },
    {
     "name": "stdout",
     "output_type": "stream",
     "text": [
      "Extracting ./data/FashionMNIST/raw/t10k-images-idx3-ubyte.gz to ./data/FashionMNIST/raw\n",
      "\n",
      "Downloading http://fashion-mnist.s3-website.eu-central-1.amazonaws.com/t10k-labels-idx1-ubyte.gz\n",
      "Downloading http://fashion-mnist.s3-website.eu-central-1.amazonaws.com/t10k-labels-idx1-ubyte.gz to ./data/FashionMNIST/raw/t10k-labels-idx1-ubyte.gz\n"
     ]
    },
    {
     "name": "stderr",
     "output_type": "stream",
     "text": [
      "6144it [00:00, 7134497.17it/s]          "
     ]
    },
    {
     "name": "stdout",
     "output_type": "stream",
     "text": [
      "Extracting ./data/FashionMNIST/raw/t10k-labels-idx1-ubyte.gz to ./data/FashionMNIST/raw\n",
      "\n",
      "Length of training dataset:\t60000\n",
      "Length of test dataset:\t\t10000\n",
      "First datapoint (x_1, y_1):\t(Image: shape (1, 28, 28), Label: 9 (ankle boot)),\n"
     ]
    },
    {
     "name": "stderr",
     "output_type": "stream",
     "text": [
      "\n"
     ]
    }
   ],
   "source": [
    "train_iter, test_iter, train_set, test_set = load_fashion_mnist(batch_size=4)\n",
    "print(f'Length of training dataset:\\t{len(train_set)}')\n",
    "print(f'Length of test dataset:\\t\\t{len(test_set)}')\n",
    "\n",
    "x1, y1 = train_set[0]\n",
    "y1_text = fashion_mnist_labels[y1]\n",
    "print(f'First datapoint (x_1, y_1):\\t(Image: shape {tuple(x1.shape)}, Label: {y1} ({y1_text})),')"
   ]
  },
  {
   "cell_type": "markdown",
   "metadata": {},
   "source": [
    "Notice that each image is $1\\times28\\times28$: this first dimension represents the different \"channels\" of the image. In this case, each image is black and white so there is only $1$ channel. However, in other datasets with colored images, we would see red, green, and blue channels: $3\\times28\\times28$. Another important thing to notice is that the labels are integers $$y_n \\in \\{0, \\ldots, 9\\}$$ where $y_n = i$ means the $n$-th image in the dataset corresponds to the clothing item `fashion_mnist_labels[i]`.\n",
    "\n",
    "What is the difference between a dataset and a dataloader? Recall that in a single epoch of stochastic gradient descent, we don't calculate loss on the entire dataset. Instead, within any particular epoch, we iterate over the entire dataset in batches. Dataloaders automatically shuffle and partition the dataset in such a way we can loop over them conviniently in every epoch. Let's look at a single mini batch of size $4$:"
   ]
  },
  {
   "cell_type": "code",
   "execution_count": 12,
   "metadata": {},
   "outputs": [
    {
     "name": "stdout",
     "output_type": "stream",
     "text": [
      "Shape of batch X:\t torch.Size([4, 1, 28, 28])\n",
      "Shape of datapoint x_i:\t torch.Size([1, 28, 28])\n"
     ]
    },
    {
     "data": {
      "image/svg+xml": "<?xml version=\"1.0\" encoding=\"utf-8\" standalone=\"no\"?>\n<!DOCTYPE svg PUBLIC \"-//W3C//DTD SVG 1.1//EN\"\n  \"http://www.w3.org/Graphics/SVG/1.1/DTD/svg11.dtd\">\n<svg xmlns:xlink=\"http://www.w3.org/1999/xlink\" width=\"460.8pt\" height=\"126.561603pt\" viewBox=\"0 0 460.8 126.561603\" xmlns=\"http://www.w3.org/2000/svg\" version=\"1.1\">\n <metadata>\n  <rdf:RDF xmlns:dc=\"http://purl.org/dc/elements/1.1/\" xmlns:cc=\"http://creativecommons.org/ns#\" xmlns:rdf=\"http://www.w3.org/1999/02/22-rdf-syntax-ns#\">\n   <cc:Work>\n    <dc:type rdf:resource=\"http://purl.org/dc/dcmitype/StillImage\"/>\n    <dc:date>2022-03-02T18:27:49.487749</dc:date>\n    <dc:format>image/svg+xml</dc:format>\n    <dc:creator>\n     <cc:Agent>\n      <dc:title>Matplotlib v3.5.1, https://matplotlib.org/</dc:title>\n     </cc:Agent>\n    </dc:creator>\n   </cc:Work>\n  </rdf:RDF>\n </metadata>\n <defs>\n  <style type=\"text/css\">*{stroke-linejoin: round; stroke-linecap: butt}</style>\n </defs>\n <g id=\"figure_1\">\n  <g id=\"patch_1\">\n   <path d=\"M 0 126.561603 \nL 460.8 126.561603 \nL 460.8 0 \nL 0 0 \nL 0 126.561603 \nz\n\" style=\"fill: none\"/>\n  </g>\n  <g id=\"axes_1\">\n   <g clip-path=\"url(#p667fd9277a)\">\n    <image xlink:href=\"data:image/png;base64,\niVBORw0KGgoAAAANSUhEUgAAABwAAAAcCAYAAAByDd+UAAAETElEQVR4nKWWvWsUXRSHn3tnZu+MuxvXhN1MJKigkEYQC5GIvdaxsLOyEWzEyt4/w0JUBBECEtQUImgTRW0kiBCSaBH8iPgRNpmPnbnnLeLMG3VnfZP3wC3mztzz3DPz+507SkSEPiEiKKUAuHnzJtPT05w4cYLV1VXOnTvHhw8fePXqFY1Gg+XlZY4dO8bZs2dRSv2ytl/ivhFFkYiIXLlyRZrNprTbbel0OgLIp0+f5OLFiwLI6OiojI+PS6vVkgMHDoiISJqmYq3tm9ftv43NCovwfZ96vY61ljAMuXz5MvPz84RhiO/7eJ6H1pqTJ0+Wa6oqrAQaYwDYtWsXSinyPCeKIlzX5datWwRBwO7du4miCBHBWovneQBYa6vSVgOLyPMcrTWO45DnOY7jMDY2hoiUIACtNaurq79stl/oyht689b79+8REer1Or1ejyiKiOOYLMtIkoSNjQ0cx0EpxdraWrm+QovVwCLevHlDEARYaxkbG0NrTZ7nZFmGiDA8PIzruhhjSNP0/wHv3bvH4uIiWmviOMZ1XcIwpNPpMDo6WopGRAiCgI8fP/Ly5UsAsizbPvDatWsopeh0OhhjWFhYwFpLlmWsr6/z7ds3kiQhiiKSJEFrzfXr1we+sUofiogcP35c9u/fL3NzczIzMyP79u2T2dlZmZ6elnq9Lm/fvpWpqSm5cOGCLC0tyeHDh+XUqVODUsrACoeGhsiyjKNHj/L582e01jx69IiVlRXW19eZmJjg+fPn3L9/nzzPWV5eJs/zgQUOtMWhQ4d48eIFly5dwnVdOp0Ok5OTrK2tcfr0aW7fvs3U1BQrKytcvXoVrTUjIyM7B+7du5dut8udO3fo9XqkacqZM2cAaDabzM7OYoyh3W4TxzHGGPbs2bNzYBAEv7Quz/MYGhpCKYW1lnq9joiQZRmO45AkCUeOHAE2u03h5f8MnJiYQClFkiTlKVAkg3+lHwQBAHEcD6wO/mKLRqNRmnnrkbO1MYsIjuPg+z5ZljE+Pr5z4NLSEmma/gHY2kWUUsRxjOd5KKXo9Xo7B87NzQ0+TH8CkyRBRPB9nxs3bmwm7vP9/gqcn59Ha13ZFwugiJAkCa1Wi3fv3g1Kiar6xYBNMSilMMb8Ipp+4Xkew8PD/Pjxg9evX9Nut/s+N7DCwltQ3f2LyLKs7DJPnjypfK4S+PTpU5rNZnldiGWraAp7FHOFeB4/frx94IMHD0rFWWtL4fxeqbW2nCt8ubi4WAmsNP7du3fxfX9zVz+F87slCgUXw1qL67p8/fp1+xWmaYrruiWgH6zfJjzPo9vt8v379+0BJycn+fLlC0optNblcF2XWq1GrVYre2wx7zgOGxsb1Go1Wq1W/8SDDsswDEVrLUqpcgB/DGOMGGPE930Jw1BmZmYqcw70IcCzZ894+PAhCwsLdLvdsmKg/HbGGEZGRjh48CDnz5+n0WhU5vsHyk7NmgAhfQ0AAAAASUVORK5CYII=\" id=\"image05416ff203\" transform=\"matrix(3.5 0 0 3.5 7.2 21.361603)\" style=\"image-rendering:crisp-edges;image-rendering:pixelated\" width=\"28\" height=\"28\"/>\n   </g>\n   <g id=\"text_1\">\n    <!-- t-shirt -->\n    <g transform=\"translate(37.791114 16.318125)scale(0.12 -0.12)\">\n     <defs>\n      <path id=\"DejaVuSans-74\" d=\"M 1172 4494 \nL 1172 3500 \nL 2356 3500 \nL 2356 3053 \nL 1172 3053 \nL 1172 1153 \nQ 1172 725 1289 603 \nQ 1406 481 1766 481 \nL 2356 481 \nL 2356 0 \nL 1766 0 \nQ 1100 0 847 248 \nQ 594 497 594 1153 \nL 594 3053 \nL 172 3053 \nL 172 3500 \nL 594 3500 \nL 594 4494 \nL 1172 4494 \nz\n\" transform=\"scale(0.015625)\"/>\n      <path id=\"DejaVuSans-2d\" d=\"M 313 2009 \nL 1997 2009 \nL 1997 1497 \nL 313 1497 \nL 313 2009 \nz\n\" transform=\"scale(0.015625)\"/>\n      <path id=\"DejaVuSans-73\" d=\"M 2834 3397 \nL 2834 2853 \nQ 2591 2978 2328 3040 \nQ 2066 3103 1784 3103 \nQ 1356 3103 1142 2972 \nQ 928 2841 928 2578 \nQ 928 2378 1081 2264 \nQ 1234 2150 1697 2047 \nL 1894 2003 \nQ 2506 1872 2764 1633 \nQ 3022 1394 3022 966 \nQ 3022 478 2636 193 \nQ 2250 -91 1575 -91 \nQ 1294 -91 989 -36 \nQ 684 19 347 128 \nL 347 722 \nQ 666 556 975 473 \nQ 1284 391 1588 391 \nQ 1994 391 2212 530 \nQ 2431 669 2431 922 \nQ 2431 1156 2273 1281 \nQ 2116 1406 1581 1522 \nL 1381 1569 \nQ 847 1681 609 1914 \nQ 372 2147 372 2553 \nQ 372 3047 722 3315 \nQ 1072 3584 1716 3584 \nQ 2034 3584 2315 3537 \nQ 2597 3491 2834 3397 \nz\n\" transform=\"scale(0.015625)\"/>\n      <path id=\"DejaVuSans-68\" d=\"M 3513 2113 \nL 3513 0 \nL 2938 0 \nL 2938 2094 \nQ 2938 2591 2744 2837 \nQ 2550 3084 2163 3084 \nQ 1697 3084 1428 2787 \nQ 1159 2491 1159 1978 \nL 1159 0 \nL 581 0 \nL 581 4863 \nL 1159 4863 \nL 1159 2956 \nQ 1366 3272 1645 3428 \nQ 1925 3584 2291 3584 \nQ 2894 3584 3203 3211 \nQ 3513 2838 3513 2113 \nz\n\" transform=\"scale(0.015625)\"/>\n      <path id=\"DejaVuSans-69\" d=\"M 603 3500 \nL 1178 3500 \nL 1178 0 \nL 603 0 \nL 603 3500 \nz\nM 603 4863 \nL 1178 4863 \nL 1178 4134 \nL 603 4134 \nL 603 4863 \nz\n\" transform=\"scale(0.015625)\"/>\n      <path id=\"DejaVuSans-72\" d=\"M 2631 2963 \nQ 2534 3019 2420 3045 \nQ 2306 3072 2169 3072 \nQ 1681 3072 1420 2755 \nQ 1159 2438 1159 1844 \nL 1159 0 \nL 581 0 \nL 581 3500 \nL 1159 3500 \nL 1159 2956 \nQ 1341 3275 1631 3429 \nQ 1922 3584 2338 3584 \nQ 2397 3584 2469 3576 \nQ 2541 3569 2628 3553 \nL 2631 2963 \nz\n\" transform=\"scale(0.015625)\"/>\n     </defs>\n     <use xlink:href=\"#DejaVuSans-74\"/>\n     <use xlink:href=\"#DejaVuSans-2d\" x=\"39.208984\"/>\n     <use xlink:href=\"#DejaVuSans-73\" x=\"75.292969\"/>\n     <use xlink:href=\"#DejaVuSans-68\" x=\"127.392578\"/>\n     <use xlink:href=\"#DejaVuSans-69\" x=\"190.771484\"/>\n     <use xlink:href=\"#DejaVuSans-72\" x=\"218.554688\"/>\n     <use xlink:href=\"#DejaVuSans-74\" x=\"259.667969\"/>\n    </g>\n   </g>\n  </g>\n  <g id=\"axes_2\">\n   <g clip-path=\"url(#ped2dc155d2)\">\n    <image xlink:href=\"data:image/png;base64,\niVBORw0KGgoAAAANSUhEUgAAABwAAAAcCAYAAAByDd+UAAAEhElEQVR4nK2WzW7TShiGnxk7jh0nwYlDoKVFUUH8dZHCkktArLgQVlxA7wMpCxCiUhaAAJEFGyQkkIoEYZEVSCAIIT+K8oPdxIk9Z9GTiB6RNj3nvNux32e+1/N9HqGUUiyQUgohBAClUol3795x+/ZtcrkcvV4P27Ypl8t8+PCBUqkEQBiGaJq2yBK5cOVv4Ez3799nOBwipWQ8HpNMJonH45imyZs3b6hWq3PgYdIPW5xVB5BMJnFdl3Q6TaPR4NOnT2xubrKxsUEmk+GQoA7o0Ap/l1IKpRSu6xKGIXt7e5w+fZpUKkU8Hl/WZnmg67o0Gg12d3fJ5XLcuHEDz/N49eoVo9EI13X3DeXhlktHurq6SqVSYXt7m/F4jGmatNttTNMkFouxsrKyFPDICqMoAuDMmTNMJhMcx0HTNL58+UKhUMAwDHK5HLqu/z/Ama5fv46maViWxdbWFpcuXWJra4ter0exWFzW5mjgLNZr166haRrD4ZBOp0Oj0eDbt2+k02levnw578PJZPLfgL8riiLCMGQwGABQr9cZjUaEYcjVq1eX8li6wu3tbYQQ5HI5hBBIKen1eui6TjabnQNjsdi/B/4+NSqVCqlUCt/3GY/HSCkpFAqYpkmtVptHetQAWCrSnZ0dut0uUkpqtRqe5wFgWRb9fh+lFDs7O8DBVjo2cDaEHz9+jOM4BEFAt9vF932iKMK2bbrdLoZh0O/3qdfrAEyn0+MDZ/0XRRGvX7/GcRw8z+PEiRN0Oh36/T6wP2OFEHiex6NHjw5s9FjAWTTPnj1jbW0Ny7JotVoIIRiPxwAEQYCu64RhiJSScrl84N1/BXz48CG5XA7LsuY7NwxjDpxOpwghSCQS9Pv9eTKLDs8fgb8//Pz5c7LZLNVqlVOnTjGdTrEsCyEEYRgSBAFSSmKxGIPBgCdPniys7khguVzm7Nmz/Pr1izAMSafT7O3toZTCtm1830fTtHm0uq5z9+7dAwktBZwN4FKphG3bhGFIPp+n3+8jhEApRRRFTCYTTp48yXQ6Rdd1VldX+f79+/ErnKnVapFIJBiNRhiGged5WJZFIpEgiiI0TSObzWJZFu12m0QiQa/X48WLF8cHPn36lFarhW3bTKdTlFIMBgPW19fJZDLAfuNLKTFNc94mmqZx79694wNLpRK6rmMYBvF4HCEEQRCQzWbxfR/TNPF9nyAISKVS85iTySSVSuX4wGazieM485iAeYyj0Yi3b98yHA7nfWhZFs1mE8MwyGQy/Pz5c3ng7u4uP378YGVlhXw+z+XLlzEMg/X19fmfAvaHuxACwzC4ePEihmFg2zaaps2H+T/1xzvN+/fvCYKAdrtNPp9HSollWRSLRZLJJKlUCsdxOHfuHK7r0mw2aTabBEHA169fARafVrVADx48UDdv3lTFYlFJKRWgpJTq/PnzamNjQwHKcRx14cIF5TiOWltbU4VCQd26dUt9/vx5ka0Sh131Yf9bVqtVOp0OtVqNjx8/Mh6PuXLlCq7rUq/X8X2fzc1N7ty5c+Ql6i8nwTIN6Mz2FwAAAABJRU5ErkJggg==\" id=\"image11696e9597\" transform=\"matrix(3.5 0 0 3.5 123.652174 21.361603)\" style=\"image-rendering:crisp-edges;image-rendering:pixelated\" width=\"28\" height=\"28\"/>\n   </g>\n   <g id=\"text_2\">\n    <!-- dress -->\n    <g transform=\"translate(156.090163 16.318125)scale(0.12 -0.12)\">\n     <defs>\n      <path id=\"DejaVuSans-64\" d=\"M 2906 2969 \nL 2906 4863 \nL 3481 4863 \nL 3481 0 \nL 2906 0 \nL 2906 525 \nQ 2725 213 2448 61 \nQ 2172 -91 1784 -91 \nQ 1150 -91 751 415 \nQ 353 922 353 1747 \nQ 353 2572 751 3078 \nQ 1150 3584 1784 3584 \nQ 2172 3584 2448 3432 \nQ 2725 3281 2906 2969 \nz\nM 947 1747 \nQ 947 1113 1208 752 \nQ 1469 391 1925 391 \nQ 2381 391 2643 752 \nQ 2906 1113 2906 1747 \nQ 2906 2381 2643 2742 \nQ 2381 3103 1925 3103 \nQ 1469 3103 1208 2742 \nQ 947 2381 947 1747 \nz\n\" transform=\"scale(0.015625)\"/>\n      <path id=\"DejaVuSans-65\" d=\"M 3597 1894 \nL 3597 1613 \nL 953 1613 \nQ 991 1019 1311 708 \nQ 1631 397 2203 397 \nQ 2534 397 2845 478 \nQ 3156 559 3463 722 \nL 3463 178 \nQ 3153 47 2828 -22 \nQ 2503 -91 2169 -91 \nQ 1331 -91 842 396 \nQ 353 884 353 1716 \nQ 353 2575 817 3079 \nQ 1281 3584 2069 3584 \nQ 2775 3584 3186 3129 \nQ 3597 2675 3597 1894 \nz\nM 3022 2063 \nQ 3016 2534 2758 2815 \nQ 2500 3097 2075 3097 \nQ 1594 3097 1305 2825 \nQ 1016 2553 972 2059 \nL 3022 2063 \nz\n\" transform=\"scale(0.015625)\"/>\n     </defs>\n     <use xlink:href=\"#DejaVuSans-64\"/>\n     <use xlink:href=\"#DejaVuSans-72\" x=\"63.476562\"/>\n     <use xlink:href=\"#DejaVuSans-65\" x=\"102.339844\"/>\n     <use xlink:href=\"#DejaVuSans-73\" x=\"163.863281\"/>\n     <use xlink:href=\"#DejaVuSans-73\" x=\"215.962891\"/>\n    </g>\n   </g>\n  </g>\n  <g id=\"axes_3\">\n   <g clip-path=\"url(#pda2dbdfd96)\">\n    <image xlink:href=\"data:image/png;base64,\niVBORw0KGgoAAAANSUhEUgAAABwAAAAcCAYAAAByDd+UAAAECElEQVR4nK2Wu07jWhSGv71x7Ny4hItEQFMgKkBQMELiCYByhoKKDiQKXoCLpqelpuQBqECaBiFRcBWDBFIIRbjMCAgKBBISHGJ7n4JjC+bMGETOqqxl6/+89v7XXhv1ztja2lKZTOaP79bX19Xj4+O7dDR8wjRNJicn+fLlCxcXFwwPD6PrOt3d3cRiMZLJJD9//qSnp4e5uTkWFxfp6+tjZGTkr5rSDxgMBqmpqWFpaYmJiQnGxsY4OTlhb2+PQqHA0NAQHR0dzM/Pk0gk2N/fJ5lM+kkilFLK74ONjQ2mp6cZGBhgZmaGlZUVtra26O/vx7Isent7yeVyTE1NYRgGCwsL1NbWfqxCgHK5TH9/PwsLCwwMDJDP5xkcHCQSiWCaJt++fWN4eJjj42O6urq4v7/31fPdQwClFNFolFgsRjqdZnx8nGKxSH19PZlMht7eXqLRKIFAANu2kdK/hjeBVVVVnJ+fU1dXR1dXF58/fyaRSPD161dWVlbo7Owkl8uRSqXIZDLouu6r9+aSptNprq6ugGcTGYZBR0cH379/59OnT1RVVdHa2kqhUOD29hbLsioDnp6eEg6HUUrR0tLC8vIyh4eHSClZW1tjd3cXXddpa2tDSkk6na4M2N7eTigUoq2tjWg0SjQa9YykaRrxeJyWlhaKxSJ3d3eEw2FfvTf3MJ/Ps7q6Snt7O5qm8fDwgKZpbG9vo2kaBwcHKKVIJpM4jkMkEqmswubmZorFIre3t+TzeUzTxHEcEokE4XCYQqFAY2MjSiksy6K+vr4yYCwWQwhBMBgkm80ipUQIQUNDA4BXpZQSpRRvnCPva3ylFKZpkkwmqa6uRilFqVTCcRxCoRA3NzcIIcjlcpydnVUGPDo68ho6GAxi2zbw3J9KKRzHQUqJYRiYpsnh4WFlwB8/fqBpz976fblcuHu66LrOzs5OZcBUKoWmaSilEEIghPAgQghs2/bykUiEzc3NyoDn5+cYhoHjOAghkFJ6ENcotm1j2zahUIjd3d3KgL9+/SIYDOI4zqu8u3/us2VZBAIBmpubPw4sFAo0NTWh6zpKqVeTwG2Bl0utaRqmaXJycvIxYCqV4unpyavmZZWugVyg4zjYto1SisvLy48Bs9ksp6enWJb1HyDg5dyfEkK8mi5/Ct+z9Obm5vmv/jXH7+HmXroX+Djw6OiIeDz+Styt0m2Jl72olKKxsdH3muELzOVyhEIhpJSeYQKBAIA3aHVd91rFMAyenp58b26+wOvray4vLz2ru07VdZ1yuUyxWPSqLpVK3N/fk81mfYewL3B2dpbHx0fK5TL5fJ5SqUSpVEJKiWVZ1NTUoOs66XSaeDxOU1MTPT09jI6O/lXzzXvp/x3/AJxHgHYe9OA5AAAAAElFTkSuQmCC\" id=\"image99aeaaf45b\" transform=\"matrix(3.5 0 0 3.5 240.104348 21.361603)\" style=\"image-rendering:crisp-edges;image-rendering:pixelated\" width=\"28\" height=\"28\"/>\n   </g>\n   <g id=\"text_3\">\n    <!-- shirt -->\n    <g transform=\"translate(275.212337 16.318125)scale(0.12 -0.12)\">\n     <use xlink:href=\"#DejaVuSans-73\"/>\n     <use xlink:href=\"#DejaVuSans-68\" x=\"52.099609\"/>\n     <use xlink:href=\"#DejaVuSans-69\" x=\"115.478516\"/>\n     <use xlink:href=\"#DejaVuSans-72\" x=\"143.261719\"/>\n     <use xlink:href=\"#DejaVuSans-74\" x=\"184.375\"/>\n    </g>\n   </g>\n  </g>\n  <g id=\"axes_4\">\n   <g clip-path=\"url(#p23da70f306)\">\n    <image xlink:href=\"data:image/png;base64,\niVBORw0KGgoAAAANSUhEUgAAABwAAAAcCAYAAAByDd+UAAAEwElEQVR4nKWWz2sTTRjHP7vbdNdaG2tSY7o2YptYI7FUFGwgN0GiqAjWHzcvXgTxJj15EfwHlB48iBcF/wAPIqJWlBgUY43GWKumrrEJsTQmbjBuuvMefA1v8XVT2i/MZebh+cz3mWeGQTjIsiwhhBBv374Vo6OjYmxsbNG6aZpifHxcXL161SnNIsksUaZpkslkePjwYXPu8uXLPHr0CNM0m3NCCMc8bU6LkiQBEAqFEEJgmiZ79uzhxo0bJBIJPn/+TCgUYv369UvdtzNQluUmOBAIMDAwwPnz57Ftm1gsRjgcxuPxkE6n/9jksoCSJGHbNrIss3XrVmZnZ0kkEjx+/Biv10symWTNmjWcOnUKoBnraMJx9d8kAKlUiunpaSqVCiMjIwwODuL3+3n9+jXPnj1bFLsiYFvbryJEo1F6enro7e2lra2Nnp4edF1n//797N2791eyFu5aAv/bcel0mnq9TrFYZNOmTdi23Rzz8/N/xP9NknCIsiwLl8tFJpPh2LFjtLe34/F4UFWVcrlMJBJpduiFCxeWdIZLuhbZbBZd1xFCYBgGQ0NDqKrKu3fv6OjooFqt8v37dzo7O1tCHR3+1p07d2g0GmiaRldXF8FgkFWrViFJEgsLC/z8+ZOOjg5cLhdCCMersSTgoUOHKJVK9PX1IUkSkiTR3d2NqqooikK5XObo0aPE43EajUaz0f5PjiWFX81iGAarV68ml8uxsLCAx+OhUCigqiqqqiLLMvfv3ycej6MoimO+lkCfz8fBgwfZuXMnPp8PwzCQZRlVVdm2bRuw+Dq0emlalvTmzZtcu3aNSqXC2bNnKZVK2LaNruvYto1lWfj9fh48eMCZM2fw+Xwrc/jmzRuEEGzevJmJiQmeP3+Oz+djamqKeDxOsVgkEomQzWapVqsrByqKgtfrJRAIEIvFOHHiBLIsk0wmiUajVCoVAoEAg4ODlEolgsHgyoC3bt1CVVWKxSIfPnygu7ubcrlMKpXi48eP1Go1/H4/hmGwY8cOotHoyoCHDx+mXq8zNDRErVZj7dq1zMzM0N7ezpEjR2g0GvT39yOEoNFotErnDPzx4wfJZBJFUejq6iISieD1elEUhcnJSTweD7Ozs+TzeZ48ecKXL1+4dOnS8oHpdJrJyUlUVSWbzeJ2u7Ftu1li0zR5+fIlwWAQSZIoFAorczg8PMzp06fRdR1d13nx4gVzc3PUajUSiQQnT56kWq2ya9cu3G73or/NX+X0w7p9+7bQNE2MjIyIiYkJMTU1JWZmZsS9e/fExYsXhWVZIp1Oi/HxcbFv3z6h67pIpVKOvzZHhy6Xi2g0isvlYmxsDFVVqdfr5HI5CoUC6XSab9++4ff7OXDgAMPDw4TD4eWXtF6vo2ka/f39HD9+HEmSME2TV69ekclkOHfuHPPz87x//x7DMMjn8zx9+pRYLLY84KdPn6hWq+RyOa5cucLGjRuxLItEIkFnZyfXr1/n69evzM3NsX37djRNo1arLd+h2+0mFAqhaRput5uBgQEqlQrr1q2jVqvR19eH2+1my5YthMNhNmzYgMfjcQS2fLwty2J6epq7d++i6zr1eh2Xy0U+n6e3txfTNNm9e3fLs/utfwA7JKdRQmUEkgAAAABJRU5ErkJggg==\" id=\"image1414bf230e\" transform=\"matrix(3.5 0 0 3.5 356.556522 21.361603)\" style=\"image-rendering:crisp-edges;image-rendering:pixelated\" width=\"28\" height=\"28\"/>\n   </g>\n   <g id=\"text_4\">\n    <!-- dress -->\n    <g transform=\"translate(388.994511 16.318125)scale(0.12 -0.12)\">\n     <use xlink:href=\"#DejaVuSans-64\"/>\n     <use xlink:href=\"#DejaVuSans-72\" x=\"63.476562\"/>\n     <use xlink:href=\"#DejaVuSans-65\" x=\"102.339844\"/>\n     <use xlink:href=\"#DejaVuSans-73\" x=\"163.863281\"/>\n     <use xlink:href=\"#DejaVuSans-73\" x=\"215.962891\"/>\n    </g>\n   </g>\n  </g>\n </g>\n <defs>\n  <clipPath id=\"p667fd9277a\">\n   <rect x=\"7.2\" y=\"22.318125\" width=\"97.043478\" height=\"97.043478\"/>\n  </clipPath>\n  <clipPath id=\"ped2dc155d2\">\n   <rect x=\"123.652174\" y=\"22.318125\" width=\"97.043478\" height=\"97.043478\"/>\n  </clipPath>\n  <clipPath id=\"pda2dbdfd96\">\n   <rect x=\"240.104348\" y=\"22.318125\" width=\"97.043478\" height=\"97.043478\"/>\n  </clipPath>\n  <clipPath id=\"p23da70f306\">\n   <rect x=\"356.556522\" y=\"22.318125\" width=\"97.043478\" height=\"97.043478\"/>\n  </clipPath>\n </defs>\n</svg>\n",
      "text/plain": [
       "<Figure size 576x144 with 4 Axes>"
      ]
     },
     "metadata": {
      "needs_background": "light"
     },
     "output_type": "display_data"
    }
   ],
   "source": [
    "def plot_examples(X, y):\n",
    "  batch_size = X.shape[0]\n",
    "  _, axs = plt.subplots(1, batch_size, figsize=(batch_size*2, 2))\n",
    "  for ax, img, y in zip(axs, X, y):\n",
    "    ax.imshow(img[0], cmap='binary', interpolation='none')\n",
    "    ax.set_title(fashion_mnist_labels[y]) \n",
    "    ax.axis('off')\n",
    "\n",
    "  \n",
    "for X, y in train_iter:  # this is how we iterate over the entire training dataset\n",
    "  batch_shape = X.shape\n",
    "  print(f'Shape of batch X:\\t {batch_shape}')\n",
    "\n",
    "  data_shape = X[0].shape\n",
    "  print(f'Shape of datapoint x_i:\\t {data_shape}')\n",
    "\n",
    "  plot_examples(X, y)\n",
    "  break  # break since it would take 60000/4 = 15000 iterations to finish iterating"
   ]
  },
  {
   "cell_type": "markdown",
   "metadata": {},
   "source": [
    "## **4) Creating a neural network**\n",
    "\n",
    "It is now time to implement a multilayer perceptron (MLP) with the following architecture:\n",
    "\n",
    "\\begin{align*}\n",
    "  \\mathbf H &= \\operatorname{ReLU}(\\mathbf X \\mathbf W^{(1)} + \\mathbf b^{(1)}) \\\\\n",
    "  \\mathbf O &= \\operatorname{softmax}(\\mathbf H \\mathbf W^{(2)} + \\mathbf b^{(2)}).\n",
    "\\end{align*}\n",
    "\n",
    "The matrix $\\mathbf X \\in \\mathbb R^{M \\times D}$ above corresponds to a minibatch of $M$ datapoints $\\mathbf x_i \\in \\mathbb R^D$. The $i$-th row of the output matrix $\\mathbf O \\in \\mathbb R^{M \\times K}$ corresponds to the prediction $\\hat{\\mathbf y} \\in \\mathbb R^K$ of the $i$-th datapoint. We one hot encode the labels and use a softmax on the last layer so that our MLP models a proper distribution $p(y_n|\\mathbf x_n)$. Given an image $\\mathbf x^*$, if the $k$-th entry of our output $\\hat{\\mathbf y}^*$ is the largest, then we predict class $k$. This corresponds to picking the class $y^*$ that maximizes $p(y^* | \\mathbf x)$.\n",
    "\n",
    "![](mlp.svg)\n",
    "\n",
    "The entirety of implementing this architecture is just implementing the equations above. In order to do this, you will need to\n",
    "1. **(1 point)** initialize your parameters $\\mathbf W^{(1)}, \\mathbf b^{(1)}, \\mathbf W^{(2)}, \\mathbf b^{(2)}$\n",
    "2. **(1 point)** implement your activation functions $\\operatorname{ReLU}$, $\\operatorname{softmax}$\n",
    "3. **(1 point)** implement your forward pass $f(\\mathbf X) = \\ldots$\n",
    "\n",
    "Machine learning models can be sensitive to weight initialization. For this architecture, initialize the weights as follows:\n",
    "\\begin{align*}\n",
    "  \\mathbf {W^{(\\ell)}}_{i,k} &\\sim \\mathcal 0.01 \\, N(0, 1), \\\\\n",
    "  \\mathbf {b^{(\\ell)}}_{i}\\;\\,\\, &= 0\\,.\n",
    "\\end{align*}\n",
    "\n",
    "*Hint: we just learned initialize random tensors.*\n",
    "\n",
    "*Double hint: we are flattening each image before feeding it into the MLP. How many inputs nodes in our MLP does this mean?*\n",
    "\n",
    "*Triple hint: we are one hot encoding our labels. How many dimensions will each label have if there are 10 classes in Fashion-MNIST?*"
   ]
  },
  {
   "cell_type": "code",
   "execution_count": 156,
   "metadata": {},
   "outputs": [],
   "source": [
    "n_inputs = 28**2\n",
    "n_hiddens = 256\n",
    "n_outputs = 10\n",
    "\n",
    "W1 = 0.01*torch.randn(size = (n_inputs, n_hiddens), requires_grad=True)\n",
    "b1 = torch.zeros(size = (1,n_hiddens), requires_grad=True)\n",
    "W2 = 0.01*torch.randn(size = (n_hiddens, n_outputs), requires_grad=True)\n",
    "b2 = torch.zeros(size = (1,n_outputs), requires_grad=True)\n",
    "\n",
    "params = [W1, b1, W2, b2]"
   ]
  },
  {
   "cell_type": "markdown",
   "metadata": {},
   "source": [
    "Activation functions are just as much an aspect of architecture as the number of hidden layers or the network width. Implement\n",
    "1. **(1 point)** the ReLU function: $$\\operatorname{ReLU}(x) = \\max(0, x)$$\n",
    "2. **(1 point)** the softmax function: $$\\operatorname{softmax}(\\mathbf X)_{ij} = \\frac{\\exp(\\mathbf X_{ij})}{\\sum_k \\exp \\mathbf X_{ik})}.$$\n",
    "\n",
    "*Hint: See `torch.clamp`.*"
   ]
  },
  {
   "cell_type": "code",
   "execution_count": 149,
   "metadata": {},
   "outputs": [],
   "source": [
    "def relu(x):\n",
    "  return torch.clamp(x, min = 0, max = None)\n",
    "\n",
    "def softmax(X):\n",
    "  expx = torch.exp(X)\n",
    "  divs = 1/(torch.sum(expx, 1))\n",
    "  return expx * divs[:,None]"
   ]
  },
  {
   "cell_type": "markdown",
   "metadata": {},
   "source": [
    "Now it's time to throw everything together!\n",
    "\n",
    "1. **(1 points)** implement the forward pass.\n",
    "\n",
    "*Hint: The first dimension of `X` indexes over individual images in the batch. We want to flatten the rest of the dimensions.*\n",
    "\n",
    "*Double hint: Calculate $H$, then Calculate $O$.*\n",
    "\n",
    "*Triple hint: Like in NumPy, use `@` for matrix multiplication.*"
   ]
  },
  {
   "cell_type": "code",
   "execution_count": 65,
   "metadata": {},
   "outputs": [],
   "source": [
    "def net(X):\n",
    "  Xf = X.flatten(start_dim=1)\n",
    "  H = relu(torch.matmul(Xf, params[0]) + params[1])\n",
    "  O = softmax(torch.matmul(H, params[2]) + params[3])\n",
    "  return O"
   ]
  },
  {
   "cell_type": "markdown",
   "metadata": {},
   "source": [
    "## **5) Training a neural network**\n",
    "\n"
   ]
  },
  {
   "cell_type": "markdown",
   "metadata": {},
   "source": [
    "We also need to be able to evaluate our model prediction $\\hat {\\mathbf y}$ with the true label $\\mathbf y$. We can do this through with cross entropy loss. If $K$ is the number of categories we have, then $\\hat {\\mathbf y}$ and $\\mathbf y$ are $K$-dimensional one hot vectors. With this representation, cross entropy loss is defined as $$\\ell(\\hat {\\mathbf y}, \\mathbf y) = -\\sum_{k=1}^K \\mathbf y_i \\log \\hat {\\mathbf y}_i.$$ Note that the way we structured our neural network, only $\\hat {\\mathbf y}$ is one hot encoded, and the labels $y$ coming from the Fashion-MNIST training set are integers. This means we can much more simply write $$\\ell(\\hat {\\mathbf y}, y) = -\\log \\hat {\\mathbf y}_y.$$\n",
    "\n",
    "For any general loss function, we can implement the gradient descent update step: $$w \\leftarrow w - \\eta \\, \\nabla_w \\mathcal L$$ for every model parameter $w$ where $\\mathcal L$ is the average loss over the minibatch.\n",
    "\n",
    "1. **(1 point)** Implement cross entropy loss.\n",
    "2. **(1 point)** Implement gradient descent.\n",
    "\n",
    "*Hint: in gradient descent, remember to use `with torch.no_grad():` since we don't want to backpropogate through the update operations.*\n",
    "\n",
    "*Double hint: assume that the parameters come into `sgd` with their gradients. Hence, $\\nabla_w \\mathcal L$ is simply `w.grad`.*\n",
    "\n",
    "*Triple hint: we will need to reset the parameter gradients by zero-ing out at end of gradient descent.*"
   ]
  },
  {
   "cell_type": "code",
   "execution_count": 151,
   "metadata": {},
   "outputs": [],
   "source": [
    "def cross_entropy(y_hat, y):\n",
    "  return -torch.log(y_hat[y])\n",
    "\n",
    "def sgd(params, lr=0.1):\n",
    "  with torch.no_grad():\n",
    "    for p in params:\n",
    "      p.sub_(p.grad*lr)\n",
    "      p.grad.zero_()\n"
   ]
  },
  {
   "cell_type": "markdown",
   "metadata": {},
   "source": [
    "We finally have all the pieces to train a neural network... except the training loop:\n",
    "\n",
    "```\n",
    "  For every epoch:\n",
    "      For every batch X, y in training dataset:\n",
    "          1. Calculate y_hat from X\n",
    "          2. Calculate the losses between y_hat and y\n",
    "          3. Calculate total loss (the average over all losses)\n",
    "          4. Backpropagate on the loss\n",
    "          5. Update parameters with SGD\n",
    "```\n",
    "\n",
    "1. **(3 points)** Implement the training loop.\n",
    "\n",
    "*Hint: Realize that the cross entropy loss we implemented defines loss for a single prediction. The loss over an entire minibatch of size $M$ is actually the average cross entropy loss.*"
   ]
  },
  {
   "cell_type": "code",
   "execution_count": 159,
   "metadata": {},
   "outputs": [
    {
     "name": "stdout",
     "output_type": "stream",
     "text": [
      "[None, None, None, None]\n"
     ]
    },
    {
     "name": "stderr",
     "output_type": "stream",
     "text": [
      "/opt/homebrew/Caskroom/miniforge/base/lib/python3.9/site-packages/torch/_tensor.py:1013: UserWarning: The .grad attribute of a Tensor that is not a leaf Tensor is being accessed. Its .grad attribute won't be populated during autograd.backward(). If you indeed want the .grad field to be populated for a non-leaf Tensor, use .retain_grad() on the non-leaf Tensor. If you access the non-leaf Tensor by mistake, make sure you access the leaf Tensor instead. See github.com/pytorch/pytorch/pull/30531 for more informations. (Triggered internally at  /Users/runner/miniforge3/conda-bld/pytorch-recipe_1645462109041/work/build/aten/src/ATen/core/TensorBody.h:417.)\n",
      "  return self._grad\n"
     ]
    },
    {
     "ename": "TypeError",
     "evalue": "unsupported operand type(s) for *: 'NoneType' and 'float'",
     "output_type": "error",
     "traceback": [
      "\u001b[0;31m---------------------------------------------------------------------------\u001b[0m",
      "\u001b[0;31mTypeError\u001b[0m                                 Traceback (most recent call last)",
      "\u001b[1;32m/Users/matejcerman/Documents/0 Classes/CS181/cs181-s22-homeworks/HW3/T3_P4.ipynb Cell 39'\u001b[0m in \u001b[0;36m<module>\u001b[0;34m\u001b[0m\n\u001b[1;32m     <a href='vscode-notebook-cell:/Users/matejcerman/Documents/0%20Classes/CS181/cs181-s22-homeworks/HW3/T3_P4.ipynb#ch0000038?line=21'>22</a>\u001b[0m epochs \u001b[39m=\u001b[39m \u001b[39m4\u001b[39m\n\u001b[1;32m     <a href='vscode-notebook-cell:/Users/matejcerman/Documents/0%20Classes/CS181/cs181-s22-homeworks/HW3/T3_P4.ipynb#ch0000038?line=22'>23</a>\u001b[0m train_iter, test_iter, _, _ \u001b[39m=\u001b[39m load_fashion_mnist(batch_size\u001b[39m=\u001b[39m\u001b[39m3\u001b[39m)\n\u001b[0;32m---> <a href='vscode-notebook-cell:/Users/matejcerman/Documents/0%20Classes/CS181/cs181-s22-homeworks/HW3/T3_P4.ipynb#ch0000038?line=23'>24</a>\u001b[0m train(net, params, train_iter)\n",
      "\u001b[1;32m/Users/matejcerman/Documents/0 Classes/CS181/cs181-s22-homeworks/HW3/T3_P4.ipynb Cell 39'\u001b[0m in \u001b[0;36mtrain\u001b[0;34m(net, params, train_iter, loss_func, updater)\u001b[0m\n\u001b[1;32m     <a href='vscode-notebook-cell:/Users/matejcerman/Documents/0%20Classes/CS181/cs181-s22-homeworks/HW3/T3_P4.ipynb#ch0000038?line=11'>12</a>\u001b[0m total_loss \u001b[39m=\u001b[39m torch\u001b[39m.\u001b[39mmean(losses)\n\u001b[1;32m     <a href='vscode-notebook-cell:/Users/matejcerman/Documents/0%20Classes/CS181/cs181-s22-homeworks/HW3/T3_P4.ipynb#ch0000038?line=13'>14</a>\u001b[0m total_loss\u001b[39m.\u001b[39mbackward()\n\u001b[0;32m---> <a href='vscode-notebook-cell:/Users/matejcerman/Documents/0%20Classes/CS181/cs181-s22-homeworks/HW3/T3_P4.ipynb#ch0000038?line=15'>16</a>\u001b[0m updater(params)\n\u001b[1;32m     <a href='vscode-notebook-cell:/Users/matejcerman/Documents/0%20Classes/CS181/cs181-s22-homeworks/HW3/T3_P4.ipynb#ch0000038?line=17'>18</a>\u001b[0m \u001b[39m#print(params[0].grad)\u001b[39;00m\n\u001b[1;32m     <a href='vscode-notebook-cell:/Users/matejcerman/Documents/0%20Classes/CS181/cs181-s22-homeworks/HW3/T3_P4.ipynb#ch0000038?line=18'>19</a>\u001b[0m \u001b[39mbreak\u001b[39;00m\n",
      "\u001b[1;32m/Users/matejcerman/Documents/0 Classes/CS181/cs181-s22-homeworks/HW3/T3_P4.ipynb Cell 37'\u001b[0m in \u001b[0;36msgd\u001b[0;34m(params, lr)\u001b[0m\n\u001b[1;32m      <a href='vscode-notebook-cell:/Users/matejcerman/Documents/0%20Classes/CS181/cs181-s22-homeworks/HW3/T3_P4.ipynb#ch0000036?line=4'>5</a>\u001b[0m \u001b[39mwith\u001b[39;00m torch\u001b[39m.\u001b[39mno_grad():\n\u001b[1;32m      <a href='vscode-notebook-cell:/Users/matejcerman/Documents/0%20Classes/CS181/cs181-s22-homeworks/HW3/T3_P4.ipynb#ch0000036?line=5'>6</a>\u001b[0m   \u001b[39mfor\u001b[39;00m p \u001b[39min\u001b[39;00m params:\n\u001b[0;32m----> <a href='vscode-notebook-cell:/Users/matejcerman/Documents/0%20Classes/CS181/cs181-s22-homeworks/HW3/T3_P4.ipynb#ch0000036?line=6'>7</a>\u001b[0m     p\u001b[39m.\u001b[39msub_(p\u001b[39m.\u001b[39;49mgrad\u001b[39m*\u001b[39;49mlr)\n\u001b[1;32m      <a href='vscode-notebook-cell:/Users/matejcerman/Documents/0%20Classes/CS181/cs181-s22-homeworks/HW3/T3_P4.ipynb#ch0000036?line=7'>8</a>\u001b[0m     p\u001b[39m.\u001b[39mgrad\u001b[39m.\u001b[39mzero_()\n",
      "\u001b[0;31mTypeError\u001b[0m: unsupported operand type(s) for *: 'NoneType' and 'float'"
     ]
    }
   ],
   "source": [
    "def train(net, params, train_iter, loss_func=cross_entropy, updater=sgd):\n",
    "  params = params\n",
    "  print([p.grad for p in params])\n",
    "  for e in range(epochs):\n",
    "    for X, y in train_iter:\n",
    "      \n",
    "      losses = []\n",
    "      for i in range(len(y)):\n",
    "        losses.append(loss_func(net(X)[i,], y[i]))\n",
    "      losses = torch.tensor(losses, requires_grad=True)\n",
    "\n",
    "      total_loss = torch.mean(losses)\n",
    "\n",
    "      total_loss.backward()\n",
    "\n",
    "      updater(params)\n",
    "\n",
    "      #print(params[0].grad)\n",
    "      break\n",
    "    break\n",
    "\n",
    "epochs = 4\n",
    "train_iter, test_iter, _, _ = load_fashion_mnist(batch_size=3)\n",
    "train(net, params, train_iter)\n",
    "    "
   ]
  },
  {
   "cell_type": "markdown",
   "metadata": {},
   "source": [
    "We finished! Sure we can use the training loop above, but how will we know if we are succesfully trianing our model? Tracking training progress is crucial in understanding if changes ought to be made regarding hyperparameters or model architecture. Because of this, we expand the above training loop by adding a few lines that track various metrics such as\n",
    "1. average train loss\n",
    "2. average train accuracy\n",
    "3. average test loss\n",
    "4. average test accuracy\n",
    "\n",
    "Note that while this looks much scarier, it can be completely reduced to the much smaller trianing loop above."
   ]
  },
  {
   "cell_type": "code",
   "execution_count": 146,
   "metadata": {},
   "outputs": [],
   "source": [
    "epochs = 10\n",
    "batch_size = 256\n",
    "lr = 0.1\n",
    "train_iter, test_iter, _, _ = load_fashion_mnist(batch_size=batch_size)\n",
    "\n",
    "\n",
    "def accuracy(y_hat, y):\n",
    "  with torch.no_grad():\n",
    "    y_labels = y_hat.argmax(axis=1)\n",
    "    correct = y_labels == y\n",
    "    return correct.sum() / correct.numel()\n",
    "\n",
    "\n",
    "def train(net, params, train_iter, test_iter, loss, updater):\n",
    "  train_losses, train_accs = [], []\n",
    "  test_losses, test_accs = [], []\n",
    "  \n",
    "  for _ in tqdm(range(epochs)):\n",
    "    train_loss, train_acc = 0.0, 0.0\n",
    "    trials = 0\n",
    "\n",
    "    for X, y in train_iter:\n",
    "      trials += 1\n",
    "      y_hat = net(X)\n",
    "      l = loss(y_hat, y).mean()\n",
    "      acc = accuracy(y_hat, y)\n",
    "\n",
    "      l.backward()\n",
    "      updater(params, lr)\n",
    "\n",
    "      train_loss += l\n",
    "      train_acc += acc\n",
    "\n",
    "    train_losses.append(train_loss.item() / trials)\n",
    "    train_accs.append(train_acc.item() / trials)\n",
    "\n",
    "    test_loss, test_acc = 0.0, 0.0\n",
    "    trials = 0\n",
    "    for X, y in test_iter:\n",
    "      trials += 1\n",
    "      with torch.no_grad():\n",
    "        y_hat = net(X)\n",
    "        l = loss(y_hat, y).mean()\n",
    "        acc = accuracy(y_hat, y)\n",
    "\n",
    "        test_loss += l\n",
    "        test_acc += acc\n",
    "    \n",
    "    test_losses.append(test_loss.item() / trials)\n",
    "    test_accs.append(test_acc.item() / trials)\n",
    "  \n",
    "  return train_losses, train_accs, test_losses, test_accs"
   ]
  },
  {
   "cell_type": "markdown",
   "metadata": {},
   "source": [
    "Now, the fruit of our labor, we can train our from-scratch MLP and plot the training metrics. Great work!"
   ]
  },
  {
   "cell_type": "code",
   "execution_count": 147,
   "metadata": {},
   "outputs": [
    {
     "name": "stderr",
     "output_type": "stream",
     "text": [
      "  0%|          | 0/10 [00:00<?, ?it/s]\n"
     ]
    },
    {
     "ename": "TypeError",
     "evalue": "unsupported operand type(s) for *: 'NoneType' and 'float'",
     "output_type": "error",
     "traceback": [
      "\u001b[0;31m---------------------------------------------------------------------------\u001b[0m",
      "\u001b[0;31mTypeError\u001b[0m                                 Traceback (most recent call last)",
      "\u001b[1;32m/Users/matejcerman/Documents/0 Classes/CS181/cs181-s22-homeworks/HW3/T3_P4.ipynb Cell 43'\u001b[0m in \u001b[0;36m<module>\u001b[0;34m\u001b[0m\n\u001b[0;32m----> <a href='vscode-notebook-cell:/Users/matejcerman/Documents/0%20Classes/CS181/cs181-s22-homeworks/HW3/T3_P4.ipynb#ch0000042?line=0'>1</a>\u001b[0m train_losses, train_accs, test_losses, test_accs \u001b[39m=\u001b[39m train(net, params, train_iter, test_iter, loss\u001b[39m=\u001b[39;49mcross_entropy, updater\u001b[39m=\u001b[39;49msgd)\n",
      "\u001b[1;32m/Users/matejcerman/Documents/0 Classes/CS181/cs181-s22-homeworks/HW3/T3_P4.ipynb Cell 41'\u001b[0m in \u001b[0;36mtrain\u001b[0;34m(net, params, train_iter, test_iter, loss, updater)\u001b[0m\n\u001b[1;32m     <a href='vscode-notebook-cell:/Users/matejcerman/Documents/0%20Classes/CS181/cs181-s22-homeworks/HW3/T3_P4.ipynb#ch0000040?line=25'>26</a>\u001b[0m acc \u001b[39m=\u001b[39m accuracy(y_hat, y)\n\u001b[1;32m     <a href='vscode-notebook-cell:/Users/matejcerman/Documents/0%20Classes/CS181/cs181-s22-homeworks/HW3/T3_P4.ipynb#ch0000040?line=27'>28</a>\u001b[0m l\u001b[39m.\u001b[39mbackward()\n\u001b[0;32m---> <a href='vscode-notebook-cell:/Users/matejcerman/Documents/0%20Classes/CS181/cs181-s22-homeworks/HW3/T3_P4.ipynb#ch0000040?line=28'>29</a>\u001b[0m updater(params, lr)\n\u001b[1;32m     <a href='vscode-notebook-cell:/Users/matejcerman/Documents/0%20Classes/CS181/cs181-s22-homeworks/HW3/T3_P4.ipynb#ch0000040?line=30'>31</a>\u001b[0m train_loss \u001b[39m+\u001b[39m\u001b[39m=\u001b[39m l\n\u001b[1;32m     <a href='vscode-notebook-cell:/Users/matejcerman/Documents/0%20Classes/CS181/cs181-s22-homeworks/HW3/T3_P4.ipynb#ch0000040?line=31'>32</a>\u001b[0m train_acc \u001b[39m+\u001b[39m\u001b[39m=\u001b[39m acc\n",
      "\u001b[1;32m/Users/matejcerman/Documents/0 Classes/CS181/cs181-s22-homeworks/HW3/T3_P4.ipynb Cell 37'\u001b[0m in \u001b[0;36msgd\u001b[0;34m(params, lr)\u001b[0m\n\u001b[1;32m      <a href='vscode-notebook-cell:/Users/matejcerman/Documents/0%20Classes/CS181/cs181-s22-homeworks/HW3/T3_P4.ipynb#ch0000036?line=4'>5</a>\u001b[0m \u001b[39mwith\u001b[39;00m torch\u001b[39m.\u001b[39mno_grad():\n\u001b[1;32m      <a href='vscode-notebook-cell:/Users/matejcerman/Documents/0%20Classes/CS181/cs181-s22-homeworks/HW3/T3_P4.ipynb#ch0000036?line=5'>6</a>\u001b[0m   \u001b[39mfor\u001b[39;00m p \u001b[39min\u001b[39;00m params:\n\u001b[0;32m----> <a href='vscode-notebook-cell:/Users/matejcerman/Documents/0%20Classes/CS181/cs181-s22-homeworks/HW3/T3_P4.ipynb#ch0000036?line=6'>7</a>\u001b[0m     p\u001b[39m.\u001b[39msub_(p\u001b[39m.\u001b[39;49mgrad\u001b[39m*\u001b[39;49mlr)\n\u001b[1;32m      <a href='vscode-notebook-cell:/Users/matejcerman/Documents/0%20Classes/CS181/cs181-s22-homeworks/HW3/T3_P4.ipynb#ch0000036?line=7'>8</a>\u001b[0m     p\u001b[39m.\u001b[39mgrad\u001b[39m.\u001b[39mzero_()\n",
      "\u001b[0;31mTypeError\u001b[0m: unsupported operand type(s) for *: 'NoneType' and 'float'"
     ]
    }
   ],
   "source": [
    "train_losses, train_accs, test_losses, test_accs = train(net, params, train_iter, test_iter, loss=cross_entropy, updater=sgd)"
   ]
  },
  {
   "cell_type": "code",
   "execution_count": null,
   "metadata": {},
   "outputs": [],
   "source": [
    "plt.plot(train_losses, c='crimson', label='train loss')\n",
    "plt.plot(train_accs, '--', c='crimson', label='train acc')\n",
    "plt.plot(test_losses, c='navy', label='test loss')\n",
    "plt.plot(test_accs, '--', c='navy', label='test acc')\n",
    "\n",
    "plt.xlabel('epoch')\n",
    "plt.grid()\n",
    "plt.ylim(0, 1)\n",
    "plt.xlim(0, epochs-1)\n",
    "plt.legend()\n",
    "plt.savefig('final_plot.pdf')\n",
    "plt.show()"
   ]
  }
 ],
 "metadata": {
  "interpreter": {
   "hash": "91eaac0e11ba94ba9eeb79167ec976e1932cfa28caf0853bd754ede783b76e79"
  },
  "kernelspec": {
   "display_name": "Python 3.9.10 ('venv': venv)",
   "language": "python",
   "name": "python3"
  },
  "language_info": {
   "codemirror_mode": {
    "name": "ipython",
    "version": 3
   },
   "file_extension": ".py",
   "mimetype": "text/x-python",
   "name": "python",
   "nbconvert_exporter": "python",
   "pygments_lexer": "ipython3",
   "version": "3.9.7"
  },
  "orig_nbformat": 4
 },
 "nbformat": 4,
 "nbformat_minor": 2
}
